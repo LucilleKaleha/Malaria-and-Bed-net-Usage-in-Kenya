{
  "nbformat": 4,
  "nbformat_minor": 0,
  "metadata": {
    "colab": {
      "name": "Kenya - Bed Nets, Malaria and Fever occurrence and Health..ipynb",
      "version": "0.3.2",
      "provenance": [],
      "collapsed_sections": [],
      "toc_visible": true,
      "include_colab_link": true
    },
    "kernelspec": {
      "name": "python3",
      "display_name": "Python 3"
    }
  },
  "cells": [
    {
      "cell_type": "markdown",
      "metadata": {
        "id": "view-in-github",
        "colab_type": "text"
      },
      "source": [
        "<a href=\"https://colab.research.google.com/github/gakurujnr/Malaria-and-Bed-net-Usage-in-Kenya/blob/master/Kenya_Bed_Nets%2C_Malaria_and_Fever_occurrence_and_Health_.ipynb\" target=\"_parent\"><img src=\"https://colab.research.google.com/assets/colab-badge.svg\" alt=\"Open In Colab\"/></a>"
      ]
    },
    {
      "cell_type": "markdown",
      "metadata": {
        "id": "_MePRKbaBJng",
        "colab_type": "text"
      },
      "source": [
        "## Importing the Dataset\n"
      ]
    },
    {
      "cell_type": "code",
      "metadata": {
        "id": "KPE5TPtseceB",
        "colab_type": "code",
        "colab": {}
      },
      "source": [
        "#Importing of dataset in pandas as numpy\n",
        "#\n",
        "#importing pandas\n",
        "import pandas as pd\n",
        "##\n",
        "#importing numpy\n",
        "import numpy as np\n",
        "import seaborn as sns\n",
        "import matplotlib.pyplot as plt\n",
        "%matplotlib inline"
      ],
      "execution_count": 0,
      "outputs": []
    },
    {
      "cell_type": "markdown",
      "metadata": {
        "id": "XBu2niuXe2xw",
        "colab_type": "text"
      },
      "source": [
        "## Loading Dataset"
      ]
    },
    {
      "cell_type": "code",
      "metadata": {
        "id": "EqW7MY9Ze8Gt",
        "colab_type": "code",
        "outputId": "5788ddba-ad17-46e4-8bb7-ca3b27800a8c",
        "colab": {
          "base_uri": "https://localhost:8080/",
          "height": 1000
        }
      },
      "source": [
        "##\n",
        "##Loading the csv file\n",
        "#\n",
        "Malaria = pd.read_csv('Bed_Net.csv')\n",
        "Malaria"
      ],
      "execution_count": 0,
      "outputs": [
        {
          "output_type": "execute_result",
          "data": {
            "text/html": [
              "<div>\n",
              "<style scoped>\n",
              "    .dataframe tbody tr th:only-of-type {\n",
              "        vertical-align: middle;\n",
              "    }\n",
              "\n",
              "    .dataframe tbody tr th {\n",
              "        vertical-align: top;\n",
              "    }\n",
              "\n",
              "    .dataframe thead th {\n",
              "        text-align: right;\n",
              "    }\n",
              "</style>\n",
              "<table border=\"1\" class=\"dataframe\">\n",
              "  <thead>\n",
              "    <tr style=\"text-align: right;\">\n",
              "      <th></th>\n",
              "      <th>objectid</th>\n",
              "      <th>name_of_county</th>\n",
              "      <th>percentagethat_slept_under_a_bednet</th>\n",
              "      <th>percentage_that_had_a_fever</th>\n",
              "      <th>health_spending_per_person_in_Thousands</th>\n",
              "    </tr>\n",
              "  </thead>\n",
              "  <tbody>\n",
              "    <tr>\n",
              "      <th>0</th>\n",
              "      <td>1</td>\n",
              "      <td>BARINGO</td>\n",
              "      <td>24.2</td>\n",
              "      <td>14.9</td>\n",
              "      <td>29</td>\n",
              "    </tr>\n",
              "    <tr>\n",
              "      <th>1</th>\n",
              "      <td>2</td>\n",
              "      <td>BOMET</td>\n",
              "      <td>26.3</td>\n",
              "      <td>39.5</td>\n",
              "      <td>20</td>\n",
              "    </tr>\n",
              "    <tr>\n",
              "      <th>2</th>\n",
              "      <td>3</td>\n",
              "      <td>BUNGOMA</td>\n",
              "      <td>27.8</td>\n",
              "      <td>37.6</td>\n",
              "      <td>20</td>\n",
              "    </tr>\n",
              "    <tr>\n",
              "      <th>3</th>\n",
              "      <td>4</td>\n",
              "      <td>BUSIA</td>\n",
              "      <td>40.7</td>\n",
              "      <td>42.8</td>\n",
              "      <td>20</td>\n",
              "    </tr>\n",
              "    <tr>\n",
              "      <th>4</th>\n",
              "      <td>5</td>\n",
              "      <td>EMBU</td>\n",
              "      <td>7.5</td>\n",
              "      <td>9.4</td>\n",
              "      <td>48</td>\n",
              "    </tr>\n",
              "    <tr>\n",
              "      <th>5</th>\n",
              "      <td>6</td>\n",
              "      <td>GARISSA</td>\n",
              "      <td>21.8</td>\n",
              "      <td>39.8</td>\n",
              "      <td>34</td>\n",
              "    </tr>\n",
              "    <tr>\n",
              "      <th>6</th>\n",
              "      <td>7</td>\n",
              "      <td>HOMABAY</td>\n",
              "      <td>38.4</td>\n",
              "      <td>46.6</td>\n",
              "      <td>37</td>\n",
              "    </tr>\n",
              "    <tr>\n",
              "      <th>7</th>\n",
              "      <td>8</td>\n",
              "      <td>ISIOLO</td>\n",
              "      <td>39.6</td>\n",
              "      <td>58.3</td>\n",
              "      <td>24</td>\n",
              "    </tr>\n",
              "    <tr>\n",
              "      <th>8</th>\n",
              "      <td>9</td>\n",
              "      <td>KAJIADO</td>\n",
              "      <td>42.6</td>\n",
              "      <td>33.7</td>\n",
              "      <td>42</td>\n",
              "    </tr>\n",
              "    <tr>\n",
              "      <th>9</th>\n",
              "      <td>10</td>\n",
              "      <td>KAKAMEGA</td>\n",
              "      <td>30.4</td>\n",
              "      <td>12.3</td>\n",
              "      <td>15</td>\n",
              "    </tr>\n",
              "    <tr>\n",
              "      <th>10</th>\n",
              "      <td>11</td>\n",
              "      <td>ELGEYO-MARAKWET</td>\n",
              "      <td>26.7</td>\n",
              "      <td>37.9</td>\n",
              "      <td>23</td>\n",
              "    </tr>\n",
              "    <tr>\n",
              "      <th>11</th>\n",
              "      <td>12</td>\n",
              "      <td>KERICHO</td>\n",
              "      <td>33.8</td>\n",
              "      <td>51.6</td>\n",
              "      <td>11</td>\n",
              "    </tr>\n",
              "    <tr>\n",
              "      <th>12</th>\n",
              "      <td>13</td>\n",
              "      <td>KIAMBU</td>\n",
              "      <td>14.5</td>\n",
              "      <td>22.8</td>\n",
              "      <td>20</td>\n",
              "    </tr>\n",
              "    <tr>\n",
              "      <th>13</th>\n",
              "      <td>14</td>\n",
              "      <td>KILIFI</td>\n",
              "      <td>38.5</td>\n",
              "      <td>45.4</td>\n",
              "      <td>26</td>\n",
              "    </tr>\n",
              "    <tr>\n",
              "      <th>14</th>\n",
              "      <td>15</td>\n",
              "      <td>KIRINYAGA</td>\n",
              "      <td>30.0</td>\n",
              "      <td>43.2</td>\n",
              "      <td>18</td>\n",
              "    </tr>\n",
              "    <tr>\n",
              "      <th>15</th>\n",
              "      <td>16</td>\n",
              "      <td>KISII</td>\n",
              "      <td>37.8</td>\n",
              "      <td>49.0</td>\n",
              "      <td>26</td>\n",
              "    </tr>\n",
              "    <tr>\n",
              "      <th>16</th>\n",
              "      <td>17</td>\n",
              "      <td>KISUMU</td>\n",
              "      <td>62.4</td>\n",
              "      <td>45.6</td>\n",
              "      <td>29</td>\n",
              "    </tr>\n",
              "    <tr>\n",
              "      <th>17</th>\n",
              "      <td>18</td>\n",
              "      <td>KITUI</td>\n",
              "      <td>13.0</td>\n",
              "      <td>50.5</td>\n",
              "      <td>46</td>\n",
              "    </tr>\n",
              "    <tr>\n",
              "      <th>18</th>\n",
              "      <td>19</td>\n",
              "      <td>KWALE</td>\n",
              "      <td>32.1</td>\n",
              "      <td>37.7</td>\n",
              "      <td>31</td>\n",
              "    </tr>\n",
              "    <tr>\n",
              "      <th>19</th>\n",
              "      <td>20</td>\n",
              "      <td>LAIKIPIA</td>\n",
              "      <td>12.3</td>\n",
              "      <td>14.9</td>\n",
              "      <td>29</td>\n",
              "    </tr>\n",
              "    <tr>\n",
              "      <th>20</th>\n",
              "      <td>21</td>\n",
              "      <td>LAMU</td>\n",
              "      <td>51.3</td>\n",
              "      <td>63.3</td>\n",
              "      <td>50</td>\n",
              "    </tr>\n",
              "    <tr>\n",
              "      <th>21</th>\n",
              "      <td>22</td>\n",
              "      <td>MACHAKOS</td>\n",
              "      <td>31.7</td>\n",
              "      <td>40.9</td>\n",
              "      <td>16</td>\n",
              "    </tr>\n",
              "    <tr>\n",
              "      <th>22</th>\n",
              "      <td>23</td>\n",
              "      <td>MAKUENI</td>\n",
              "      <td>10.8</td>\n",
              "      <td>51.1</td>\n",
              "      <td>15</td>\n",
              "    </tr>\n",
              "    <tr>\n",
              "      <th>23</th>\n",
              "      <td>24</td>\n",
              "      <td>MANDERA</td>\n",
              "      <td>4.6</td>\n",
              "      <td>35.2</td>\n",
              "      <td>20</td>\n",
              "    </tr>\n",
              "    <tr>\n",
              "      <th>24</th>\n",
              "      <td>25</td>\n",
              "      <td>MARSABIT</td>\n",
              "      <td>11.1</td>\n",
              "      <td>44.0</td>\n",
              "      <td>46</td>\n",
              "    </tr>\n",
              "    <tr>\n",
              "      <th>25</th>\n",
              "      <td>26</td>\n",
              "      <td>MERU</td>\n",
              "      <td>24.0</td>\n",
              "      <td>42.6</td>\n",
              "      <td>22</td>\n",
              "    </tr>\n",
              "    <tr>\n",
              "      <th>26</th>\n",
              "      <td>27</td>\n",
              "      <td>MIGORI</td>\n",
              "      <td>40.1</td>\n",
              "      <td>63.0</td>\n",
              "      <td>23</td>\n",
              "    </tr>\n",
              "    <tr>\n",
              "      <th>27</th>\n",
              "      <td>28</td>\n",
              "      <td>MOMBASA</td>\n",
              "      <td>50.6</td>\n",
              "      <td>48.0</td>\n",
              "      <td>11</td>\n",
              "    </tr>\n",
              "    <tr>\n",
              "      <th>28</th>\n",
              "      <td>29</td>\n",
              "      <td>MURANGA</td>\n",
              "      <td>11.4</td>\n",
              "      <td>36.2</td>\n",
              "      <td>22</td>\n",
              "    </tr>\n",
              "    <tr>\n",
              "      <th>29</th>\n",
              "      <td>30</td>\n",
              "      <td>NAIROBI</td>\n",
              "      <td>38.0</td>\n",
              "      <td>37.7</td>\n",
              "      <td>7</td>\n",
              "    </tr>\n",
              "    <tr>\n",
              "      <th>30</th>\n",
              "      <td>31</td>\n",
              "      <td>NAKURU</td>\n",
              "      <td>9.8</td>\n",
              "      <td>0.0</td>\n",
              "      <td>11</td>\n",
              "    </tr>\n",
              "    <tr>\n",
              "      <th>31</th>\n",
              "      <td>32</td>\n",
              "      <td>NANDI</td>\n",
              "      <td>18.9</td>\n",
              "      <td>50.9</td>\n",
              "      <td>23</td>\n",
              "    </tr>\n",
              "    <tr>\n",
              "      <th>32</th>\n",
              "      <td>33</td>\n",
              "      <td>NAROK</td>\n",
              "      <td>12.9</td>\n",
              "      <td>55.8</td>\n",
              "      <td>7</td>\n",
              "    </tr>\n",
              "    <tr>\n",
              "      <th>33</th>\n",
              "      <td>34</td>\n",
              "      <td>NYAMIRA</td>\n",
              "      <td>40.9</td>\n",
              "      <td>38.9</td>\n",
              "      <td>22</td>\n",
              "    </tr>\n",
              "    <tr>\n",
              "      <th>34</th>\n",
              "      <td>35</td>\n",
              "      <td>NYANDARUA</td>\n",
              "      <td>1.7</td>\n",
              "      <td>14.4</td>\n",
              "      <td>17</td>\n",
              "    </tr>\n",
              "    <tr>\n",
              "      <th>35</th>\n",
              "      <td>36</td>\n",
              "      <td>NYERI</td>\n",
              "      <td>5.7</td>\n",
              "      <td>13.4</td>\n",
              "      <td>39</td>\n",
              "    </tr>\n",
              "    <tr>\n",
              "      <th>36</th>\n",
              "      <td>37</td>\n",
              "      <td>SAMBURU</td>\n",
              "      <td>3.2</td>\n",
              "      <td>37.1</td>\n",
              "      <td>34</td>\n",
              "    </tr>\n",
              "    <tr>\n",
              "      <th>37</th>\n",
              "      <td>38</td>\n",
              "      <td>SIAYA</td>\n",
              "      <td>46.7</td>\n",
              "      <td>54.4</td>\n",
              "      <td>22</td>\n",
              "    </tr>\n",
              "    <tr>\n",
              "      <th>38</th>\n",
              "      <td>39</td>\n",
              "      <td>TAITA-TAVETA</td>\n",
              "      <td>30.8</td>\n",
              "      <td>48.8</td>\n",
              "      <td>48</td>\n",
              "    </tr>\n",
              "    <tr>\n",
              "      <th>39</th>\n",
              "      <td>40</td>\n",
              "      <td>TANA-RIVER</td>\n",
              "      <td>45.1</td>\n",
              "      <td>63.3</td>\n",
              "      <td>19</td>\n",
              "    </tr>\n",
              "    <tr>\n",
              "      <th>40</th>\n",
              "      <td>41</td>\n",
              "      <td>THARAKA-NITHI</td>\n",
              "      <td>41.3</td>\n",
              "      <td>33.8</td>\n",
              "      <td>18</td>\n",
              "    </tr>\n",
              "    <tr>\n",
              "      <th>41</th>\n",
              "      <td>42</td>\n",
              "      <td>TRANS-NZOIA</td>\n",
              "      <td>23.0</td>\n",
              "      <td>34.8</td>\n",
              "      <td>8</td>\n",
              "    </tr>\n",
              "    <tr>\n",
              "      <th>42</th>\n",
              "      <td>43</td>\n",
              "      <td>TURKANA</td>\n",
              "      <td>6.0</td>\n",
              "      <td>55.4</td>\n",
              "      <td>14</td>\n",
              "    </tr>\n",
              "    <tr>\n",
              "      <th>43</th>\n",
              "      <td>44</td>\n",
              "      <td>UASIN-GISHU</td>\n",
              "      <td>33.6</td>\n",
              "      <td>43.4</td>\n",
              "      <td>13</td>\n",
              "    </tr>\n",
              "    <tr>\n",
              "      <th>44</th>\n",
              "      <td>45</td>\n",
              "      <td>VIHIGA</td>\n",
              "      <td>28.5</td>\n",
              "      <td>33.4</td>\n",
              "      <td>10</td>\n",
              "    </tr>\n",
              "    <tr>\n",
              "      <th>45</th>\n",
              "      <td>46</td>\n",
              "      <td>WAJIR</td>\n",
              "      <td>18.3</td>\n",
              "      <td>54.8</td>\n",
              "      <td>21</td>\n",
              "    </tr>\n",
              "    <tr>\n",
              "      <th>46</th>\n",
              "      <td>47</td>\n",
              "      <td>WEST POKOT</td>\n",
              "      <td>15.9</td>\n",
              "      <td>60.4</td>\n",
              "      <td>24</td>\n",
              "    </tr>\n",
              "  </tbody>\n",
              "</table>\n",
              "</div>"
            ],
            "text/plain": [
              "    objectid  ... health_spending_per_person_in_Thousands\n",
              "0          1  ...                                      29\n",
              "1          2  ...                                      20\n",
              "2          3  ...                                      20\n",
              "3          4  ...                                      20\n",
              "4          5  ...                                      48\n",
              "5          6  ...                                      34\n",
              "6          7  ...                                      37\n",
              "7          8  ...                                      24\n",
              "8          9  ...                                      42\n",
              "9         10  ...                                      15\n",
              "10        11  ...                                      23\n",
              "11        12  ...                                      11\n",
              "12        13  ...                                      20\n",
              "13        14  ...                                      26\n",
              "14        15  ...                                      18\n",
              "15        16  ...                                      26\n",
              "16        17  ...                                      29\n",
              "17        18  ...                                      46\n",
              "18        19  ...                                      31\n",
              "19        20  ...                                      29\n",
              "20        21  ...                                      50\n",
              "21        22  ...                                      16\n",
              "22        23  ...                                      15\n",
              "23        24  ...                                      20\n",
              "24        25  ...                                      46\n",
              "25        26  ...                                      22\n",
              "26        27  ...                                      23\n",
              "27        28  ...                                      11\n",
              "28        29  ...                                      22\n",
              "29        30  ...                                       7\n",
              "30        31  ...                                      11\n",
              "31        32  ...                                      23\n",
              "32        33  ...                                       7\n",
              "33        34  ...                                      22\n",
              "34        35  ...                                      17\n",
              "35        36  ...                                      39\n",
              "36        37  ...                                      34\n",
              "37        38  ...                                      22\n",
              "38        39  ...                                      48\n",
              "39        40  ...                                      19\n",
              "40        41  ...                                      18\n",
              "41        42  ...                                       8\n",
              "42        43  ...                                      14\n",
              "43        44  ...                                      13\n",
              "44        45  ...                                      10\n",
              "45        46  ...                                      21\n",
              "46        47  ...                                      24\n",
              "\n",
              "[47 rows x 5 columns]"
            ]
          },
          "metadata": {
            "tags": []
          },
          "execution_count": 3
        }
      ]
    },
    {
      "cell_type": "markdown",
      "metadata": {
        "id": "-eBUrNyfXwqN",
        "colab_type": "text"
      },
      "source": [
        "Getting information about the dataset"
      ]
    },
    {
      "cell_type": "code",
      "metadata": {
        "id": "zprH8GNsfrq0",
        "colab_type": "code",
        "outputId": "1851de11-9651-4ff2-b0bf-4c78ab054c6d",
        "colab": {
          "base_uri": "https://localhost:8080/",
          "height": 224
        }
      },
      "source": [
        "\n",
        "#\n",
        "#Viewing the first few rows\n",
        "Malaria.head()"
      ],
      "execution_count": 0,
      "outputs": [
        {
          "output_type": "execute_result",
          "data": {
            "text/html": [
              "<div>\n",
              "<style scoped>\n",
              "    .dataframe tbody tr th:only-of-type {\n",
              "        vertical-align: middle;\n",
              "    }\n",
              "\n",
              "    .dataframe tbody tr th {\n",
              "        vertical-align: top;\n",
              "    }\n",
              "\n",
              "    .dataframe thead th {\n",
              "        text-align: right;\n",
              "    }\n",
              "</style>\n",
              "<table border=\"1\" class=\"dataframe\">\n",
              "  <thead>\n",
              "    <tr style=\"text-align: right;\">\n",
              "      <th></th>\n",
              "      <th>objectid</th>\n",
              "      <th>name_of_county</th>\n",
              "      <th>percentagethat_slept_under_a_bednet</th>\n",
              "      <th>percentage_that_had_a_fever</th>\n",
              "      <th>health_spending_per_person_in_Thousands</th>\n",
              "    </tr>\n",
              "  </thead>\n",
              "  <tbody>\n",
              "    <tr>\n",
              "      <th>0</th>\n",
              "      <td>1</td>\n",
              "      <td>BARINGO</td>\n",
              "      <td>24.2</td>\n",
              "      <td>14.9</td>\n",
              "      <td>29</td>\n",
              "    </tr>\n",
              "    <tr>\n",
              "      <th>1</th>\n",
              "      <td>2</td>\n",
              "      <td>BOMET</td>\n",
              "      <td>26.3</td>\n",
              "      <td>39.5</td>\n",
              "      <td>20</td>\n",
              "    </tr>\n",
              "    <tr>\n",
              "      <th>2</th>\n",
              "      <td>3</td>\n",
              "      <td>BUNGOMA</td>\n",
              "      <td>27.8</td>\n",
              "      <td>37.6</td>\n",
              "      <td>20</td>\n",
              "    </tr>\n",
              "    <tr>\n",
              "      <th>3</th>\n",
              "      <td>4</td>\n",
              "      <td>BUSIA</td>\n",
              "      <td>40.7</td>\n",
              "      <td>42.8</td>\n",
              "      <td>20</td>\n",
              "    </tr>\n",
              "    <tr>\n",
              "      <th>4</th>\n",
              "      <td>5</td>\n",
              "      <td>EMBU</td>\n",
              "      <td>7.5</td>\n",
              "      <td>9.4</td>\n",
              "      <td>48</td>\n",
              "    </tr>\n",
              "  </tbody>\n",
              "</table>\n",
              "</div>"
            ],
            "text/plain": [
              "   objectid  ... health_spending_per_person_in_Thousands\n",
              "0         1  ...                                      29\n",
              "1         2  ...                                      20\n",
              "2         3  ...                                      20\n",
              "3         4  ...                                      20\n",
              "4         5  ...                                      48\n",
              "\n",
              "[5 rows x 5 columns]"
            ]
          },
          "metadata": {
            "tags": []
          },
          "execution_count": 4
        }
      ]
    },
    {
      "cell_type": "code",
      "metadata": {
        "id": "-HwFev3dgUfO",
        "colab_type": "code",
        "outputId": "e7385fc2-765e-445c-f3a1-2274492dfa9b",
        "colab": {
          "base_uri": "https://localhost:8080/",
          "height": 187
        }
      },
      "source": [
        "##\n",
        "##\n",
        "# Viewing the datasets information\n",
        "Malaria.info()"
      ],
      "execution_count": 0,
      "outputs": [
        {
          "output_type": "stream",
          "text": [
            "<class 'pandas.core.frame.DataFrame'>\n",
            "RangeIndex: 47 entries, 0 to 46\n",
            "Data columns (total 5 columns):\n",
            "objectid                                   47 non-null int64\n",
            "name_of_county                             47 non-null object\n",
            "percentagethat_slept_under_a_bednet        47 non-null float64\n",
            "percentage_that_had_a_fever                47 non-null float64\n",
            "health_spending_per_person_in_Thousands    47 non-null int64\n",
            "dtypes: float64(2), int64(2), object(1)\n",
            "memory usage: 1.9+ KB\n"
          ],
          "name": "stdout"
        }
      ]
    },
    {
      "cell_type": "code",
      "metadata": {
        "id": "YSnrjCUNivnG",
        "colab_type": "code",
        "outputId": "4a69309b-bb95-483d-c366-67fdcffc6872",
        "colab": {
          "base_uri": "https://localhost:8080/",
          "height": 34
        }
      },
      "source": [
        "##\n",
        "##\n",
        "#Checking the shape of the dataframe\n",
        "Malaria.shape"
      ],
      "execution_count": 0,
      "outputs": [
        {
          "output_type": "execute_result",
          "data": {
            "text/plain": [
              "(47, 5)"
            ]
          },
          "metadata": {
            "tags": []
          },
          "execution_count": 6
        }
      ]
    },
    {
      "cell_type": "code",
      "metadata": {
        "id": "qodnAjMWi1aA",
        "colab_type": "code",
        "outputId": "2b6100d4-b2dc-4abd-9851-2c7cc8ce8441",
        "colab": {
          "base_uri": "https://localhost:8080/",
          "height": 34
        }
      },
      "source": [
        "##\n",
        "##Checking the size of the dataframe\n",
        "#\n",
        "Malaria.size"
      ],
      "execution_count": 0,
      "outputs": [
        {
          "output_type": "execute_result",
          "data": {
            "text/plain": [
              "235"
            ]
          },
          "metadata": {
            "tags": []
          },
          "execution_count": 7
        }
      ]
    },
    {
      "cell_type": "code",
      "metadata": {
        "id": "hLgm3jr3i31o",
        "colab_type": "code",
        "outputId": "9c6d2e0d-3d99-4081-f956-63af0ce2c845",
        "colab": {
          "base_uri": "https://localhost:8080/",
          "height": 410
        }
      },
      "source": [
        "##\n",
        "## Displaying some summary statistics of the dataframe\n",
        "#\n",
        "Malaria.describe(include = 'all')"
      ],
      "execution_count": 0,
      "outputs": [
        {
          "output_type": "execute_result",
          "data": {
            "text/html": [
              "<div>\n",
              "<style scoped>\n",
              "    .dataframe tbody tr th:only-of-type {\n",
              "        vertical-align: middle;\n",
              "    }\n",
              "\n",
              "    .dataframe tbody tr th {\n",
              "        vertical-align: top;\n",
              "    }\n",
              "\n",
              "    .dataframe thead th {\n",
              "        text-align: right;\n",
              "    }\n",
              "</style>\n",
              "<table border=\"1\" class=\"dataframe\">\n",
              "  <thead>\n",
              "    <tr style=\"text-align: right;\">\n",
              "      <th></th>\n",
              "      <th>objectid</th>\n",
              "      <th>name_of_county</th>\n",
              "      <th>percentagethat_slept_under_a_bednet</th>\n",
              "      <th>percentage_that_had_a_fever</th>\n",
              "      <th>health_spending_per_person_in_Thousands</th>\n",
              "    </tr>\n",
              "  </thead>\n",
              "  <tbody>\n",
              "    <tr>\n",
              "      <th>count</th>\n",
              "      <td>47.000000</td>\n",
              "      <td>47</td>\n",
              "      <td>47.000000</td>\n",
              "      <td>47.000000</td>\n",
              "      <td>47.000000</td>\n",
              "    </tr>\n",
              "    <tr>\n",
              "      <th>unique</th>\n",
              "      <td>NaN</td>\n",
              "      <td>47</td>\n",
              "      <td>NaN</td>\n",
              "      <td>NaN</td>\n",
              "      <td>NaN</td>\n",
              "    </tr>\n",
              "    <tr>\n",
              "      <th>top</th>\n",
              "      <td>NaN</td>\n",
              "      <td>NYAMIRA</td>\n",
              "      <td>NaN</td>\n",
              "      <td>NaN</td>\n",
              "      <td>NaN</td>\n",
              "    </tr>\n",
              "    <tr>\n",
              "      <th>freq</th>\n",
              "      <td>NaN</td>\n",
              "      <td>1</td>\n",
              "      <td>NaN</td>\n",
              "      <td>NaN</td>\n",
              "      <td>NaN</td>\n",
              "    </tr>\n",
              "    <tr>\n",
              "      <th>mean</th>\n",
              "      <td>24.000000</td>\n",
              "      <td>NaN</td>\n",
              "      <td>26.729787</td>\n",
              "      <td>40.180851</td>\n",
              "      <td>24.042553</td>\n",
              "    </tr>\n",
              "    <tr>\n",
              "      <th>std</th>\n",
              "      <td>13.711309</td>\n",
              "      <td>NaN</td>\n",
              "      <td>14.801174</td>\n",
              "      <td>15.168154</td>\n",
              "      <td>11.500392</td>\n",
              "    </tr>\n",
              "    <tr>\n",
              "      <th>min</th>\n",
              "      <td>1.000000</td>\n",
              "      <td>NaN</td>\n",
              "      <td>1.700000</td>\n",
              "      <td>0.000000</td>\n",
              "      <td>7.000000</td>\n",
              "    </tr>\n",
              "    <tr>\n",
              "      <th>25%</th>\n",
              "      <td>12.500000</td>\n",
              "      <td>NaN</td>\n",
              "      <td>12.950000</td>\n",
              "      <td>35.000000</td>\n",
              "      <td>16.500000</td>\n",
              "    </tr>\n",
              "    <tr>\n",
              "      <th>50%</th>\n",
              "      <td>24.000000</td>\n",
              "      <td>NaN</td>\n",
              "      <td>27.800000</td>\n",
              "      <td>42.600000</td>\n",
              "      <td>22.000000</td>\n",
              "    </tr>\n",
              "    <tr>\n",
              "      <th>75%</th>\n",
              "      <td>35.500000</td>\n",
              "      <td>NaN</td>\n",
              "      <td>38.450000</td>\n",
              "      <td>50.700000</td>\n",
              "      <td>29.000000</td>\n",
              "    </tr>\n",
              "    <tr>\n",
              "      <th>max</th>\n",
              "      <td>47.000000</td>\n",
              "      <td>NaN</td>\n",
              "      <td>62.400000</td>\n",
              "      <td>63.300000</td>\n",
              "      <td>50.000000</td>\n",
              "    </tr>\n",
              "  </tbody>\n",
              "</table>\n",
              "</div>"
            ],
            "text/plain": [
              "         objectid  ... health_spending_per_person_in_Thousands\n",
              "count   47.000000  ...                               47.000000\n",
              "unique        NaN  ...                                     NaN\n",
              "top           NaN  ...                                     NaN\n",
              "freq          NaN  ...                                     NaN\n",
              "mean    24.000000  ...                               24.042553\n",
              "std     13.711309  ...                               11.500392\n",
              "min      1.000000  ...                                7.000000\n",
              "25%     12.500000  ...                               16.500000\n",
              "50%     24.000000  ...                               22.000000\n",
              "75%     35.500000  ...                               29.000000\n",
              "max     47.000000  ...                               50.000000\n",
              "\n",
              "[11 rows x 5 columns]"
            ]
          },
          "metadata": {
            "tags": []
          },
          "execution_count": 8
        }
      ]
    },
    {
      "cell_type": "markdown",
      "metadata": {
        "id": "f71tonRTYC59",
        "colab_type": "text"
      },
      "source": [
        "## Data Preparation"
      ]
    },
    {
      "cell_type": "markdown",
      "metadata": {
        "id": "bZTnyyeoBdvq",
        "colab_type": "text"
      },
      "source": [
        "### Validity"
      ]
    },
    {
      "cell_type": "code",
      "metadata": {
        "id": "Mu9oRf4LsEGW",
        "colab_type": "code",
        "outputId": "897b1337-7e72-4a8d-a2ff-39d3bf7a572e",
        "colab": {
          "base_uri": "https://localhost:8080/",
          "height": 296
        }
      },
      "source": [
        "##\n",
        "## plotting the percentage of people that had fever boxplot\n",
        "sns.boxplot(x = Malaria['percentage_that_had_a_fever'])\n",
        "plt.title('percentage_that_had_a_fever boxplot', color = 'g')\n",
        "plt.show()"
      ],
      "execution_count": 0,
      "outputs": [
        {
          "output_type": "display_data",
          "data": {
            "image/png": "[encoded data removed]",
            "text/plain": [
              "<Figure size 432x288 with 1 Axes>"
            ]
          },
          "metadata": {
            "tags": []
          }
        }
      ]
    },
    {
      "cell_type": "markdown",
      "metadata": {
        "id": "6_bplgpSwduE",
        "colab_type": "text"
      },
      "source": [
        "There are few outliers that can be seen in the percentage that had fever boxplot"
      ]
    },
    {
      "cell_type": "code",
      "metadata": {
        "id": "ibIqcnEDwroi",
        "colab_type": "code",
        "outputId": "e25147cb-d9f5-4a16-a33d-979bee91542d",
        "colab": {
          "base_uri": "https://localhost:8080/",
          "height": 296
        }
      },
      "source": [
        "##\n",
        "## plotting the percentage that slept under a net boxplot\n",
        "sns.boxplot(x = Malaria['percentagethat_slept_under_a_bednet'])\n",
        "plt.title('percentagethat_slept_under_a_bednet boxplot', color = 'g')\n",
        "plt.show()"
      ],
      "execution_count": 0,
      "outputs": [
        {
          "output_type": "display_data",
          "data": {
            "image/png": "[encoded data removed]",
            "text/plain": [
              "<Figure size 432x288 with 1 Axes>"
            ]
          },
          "metadata": {
            "tags": []
          }
        }
      ]
    },
    {
      "cell_type": "markdown",
      "metadata": {
        "id": "3rj0Foo60kqX",
        "colab_type": "text"
      },
      "source": [
        "There is no outlier in the percentage that slept under a bed boxplot"
      ]
    },
    {
      "cell_type": "code",
      "metadata": {
        "id": "MV-bmqDG7rxR",
        "colab_type": "code",
        "outputId": "94b65b48-827e-4c2c-8f06-fb879dae7817",
        "colab": {
          "base_uri": "https://localhost:8080/",
          "height": 1000
        }
      },
      "source": [
        "##\n",
        "##\n",
        "#\n",
        "Q1 = Malaria.quantile(0.25)\n",
        "Q3 = Malaria.quantile(0.75)\n",
        "\n",
        "Q2 = Q3-Q1\n",
        "\n",
        "((Malaria < Q1 - 1.5 * Q2) | (Malaria > Q3 + 1.5 * Q2))"
      ],
      "execution_count": 0,
      "outputs": [
        {
          "output_type": "execute_result",
          "data": {
            "text/html": [
              "<div>\n",
              "<style scoped>\n",
              "    .dataframe tbody tr th:only-of-type {\n",
              "        vertical-align: middle;\n",
              "    }\n",
              "\n",
              "    .dataframe tbody tr th {\n",
              "        vertical-align: top;\n",
              "    }\n",
              "\n",
              "    .dataframe thead th {\n",
              "        text-align: right;\n",
              "    }\n",
              "</style>\n",
              "<table border=\"1\" class=\"dataframe\">\n",
              "  <thead>\n",
              "    <tr style=\"text-align: right;\">\n",
              "      <th></th>\n",
              "      <th>health_spending_per_person_in_thousands</th>\n",
              "      <th>name_of_county</th>\n",
              "      <th>percentage_that_had_a_fever</th>\n",
              "      <th>percentagethat_slept_under_a_bednet</th>\n",
              "    </tr>\n",
              "  </thead>\n",
              "  <tbody>\n",
              "    <tr>\n",
              "      <th>0</th>\n",
              "      <td>False</td>\n",
              "      <td>False</td>\n",
              "      <td>False</td>\n",
              "      <td>False</td>\n",
              "    </tr>\n",
              "    <tr>\n",
              "      <th>1</th>\n",
              "      <td>False</td>\n",
              "      <td>False</td>\n",
              "      <td>False</td>\n",
              "      <td>False</td>\n",
              "    </tr>\n",
              "    <tr>\n",
              "      <th>2</th>\n",
              "      <td>False</td>\n",
              "      <td>False</td>\n",
              "      <td>False</td>\n",
              "      <td>False</td>\n",
              "    </tr>\n",
              "    <tr>\n",
              "      <th>3</th>\n",
              "      <td>False</td>\n",
              "      <td>False</td>\n",
              "      <td>False</td>\n",
              "      <td>False</td>\n",
              "    </tr>\n",
              "    <tr>\n",
              "      <th>4</th>\n",
              "      <td>True</td>\n",
              "      <td>False</td>\n",
              "      <td>True</td>\n",
              "      <td>False</td>\n",
              "    </tr>\n",
              "    <tr>\n",
              "      <th>5</th>\n",
              "      <td>False</td>\n",
              "      <td>False</td>\n",
              "      <td>False</td>\n",
              "      <td>False</td>\n",
              "    </tr>\n",
              "    <tr>\n",
              "      <th>6</th>\n",
              "      <td>False</td>\n",
              "      <td>False</td>\n",
              "      <td>False</td>\n",
              "      <td>False</td>\n",
              "    </tr>\n",
              "    <tr>\n",
              "      <th>7</th>\n",
              "      <td>False</td>\n",
              "      <td>False</td>\n",
              "      <td>False</td>\n",
              "      <td>False</td>\n",
              "    </tr>\n",
              "    <tr>\n",
              "      <th>8</th>\n",
              "      <td>False</td>\n",
              "      <td>False</td>\n",
              "      <td>False</td>\n",
              "      <td>False</td>\n",
              "    </tr>\n",
              "    <tr>\n",
              "      <th>9</th>\n",
              "      <td>False</td>\n",
              "      <td>False</td>\n",
              "      <td>False</td>\n",
              "      <td>False</td>\n",
              "    </tr>\n",
              "    <tr>\n",
              "      <th>10</th>\n",
              "      <td>False</td>\n",
              "      <td>False</td>\n",
              "      <td>False</td>\n",
              "      <td>False</td>\n",
              "    </tr>\n",
              "    <tr>\n",
              "      <th>11</th>\n",
              "      <td>False</td>\n",
              "      <td>False</td>\n",
              "      <td>False</td>\n",
              "      <td>False</td>\n",
              "    </tr>\n",
              "    <tr>\n",
              "      <th>12</th>\n",
              "      <td>False</td>\n",
              "      <td>False</td>\n",
              "      <td>False</td>\n",
              "      <td>False</td>\n",
              "    </tr>\n",
              "    <tr>\n",
              "      <th>13</th>\n",
              "      <td>False</td>\n",
              "      <td>False</td>\n",
              "      <td>False</td>\n",
              "      <td>False</td>\n",
              "    </tr>\n",
              "    <tr>\n",
              "      <th>14</th>\n",
              "      <td>False</td>\n",
              "      <td>False</td>\n",
              "      <td>False</td>\n",
              "      <td>False</td>\n",
              "    </tr>\n",
              "    <tr>\n",
              "      <th>15</th>\n",
              "      <td>False</td>\n",
              "      <td>False</td>\n",
              "      <td>False</td>\n",
              "      <td>False</td>\n",
              "    </tr>\n",
              "    <tr>\n",
              "      <th>16</th>\n",
              "      <td>False</td>\n",
              "      <td>False</td>\n",
              "      <td>False</td>\n",
              "      <td>False</td>\n",
              "    </tr>\n",
              "    <tr>\n",
              "      <th>17</th>\n",
              "      <td>False</td>\n",
              "      <td>False</td>\n",
              "      <td>False</td>\n",
              "      <td>False</td>\n",
              "    </tr>\n",
              "    <tr>\n",
              "      <th>18</th>\n",
              "      <td>False</td>\n",
              "      <td>False</td>\n",
              "      <td>False</td>\n",
              "      <td>False</td>\n",
              "    </tr>\n",
              "    <tr>\n",
              "      <th>19</th>\n",
              "      <td>False</td>\n",
              "      <td>False</td>\n",
              "      <td>False</td>\n",
              "      <td>False</td>\n",
              "    </tr>\n",
              "    <tr>\n",
              "      <th>20</th>\n",
              "      <td>True</td>\n",
              "      <td>False</td>\n",
              "      <td>False</td>\n",
              "      <td>False</td>\n",
              "    </tr>\n",
              "    <tr>\n",
              "      <th>21</th>\n",
              "      <td>False</td>\n",
              "      <td>False</td>\n",
              "      <td>False</td>\n",
              "      <td>False</td>\n",
              "    </tr>\n",
              "    <tr>\n",
              "      <th>22</th>\n",
              "      <td>False</td>\n",
              "      <td>False</td>\n",
              "      <td>False</td>\n",
              "      <td>False</td>\n",
              "    </tr>\n",
              "    <tr>\n",
              "      <th>23</th>\n",
              "      <td>False</td>\n",
              "      <td>False</td>\n",
              "      <td>False</td>\n",
              "      <td>False</td>\n",
              "    </tr>\n",
              "    <tr>\n",
              "      <th>24</th>\n",
              "      <td>False</td>\n",
              "      <td>False</td>\n",
              "      <td>False</td>\n",
              "      <td>False</td>\n",
              "    </tr>\n",
              "    <tr>\n",
              "      <th>25</th>\n",
              "      <td>False</td>\n",
              "      <td>False</td>\n",
              "      <td>False</td>\n",
              "      <td>False</td>\n",
              "    </tr>\n",
              "    <tr>\n",
              "      <th>26</th>\n",
              "      <td>False</td>\n",
              "      <td>False</td>\n",
              "      <td>False</td>\n",
              "      <td>False</td>\n",
              "    </tr>\n",
              "    <tr>\n",
              "      <th>27</th>\n",
              "      <td>False</td>\n",
              "      <td>False</td>\n",
              "      <td>False</td>\n",
              "      <td>False</td>\n",
              "    </tr>\n",
              "    <tr>\n",
              "      <th>28</th>\n",
              "      <td>False</td>\n",
              "      <td>False</td>\n",
              "      <td>False</td>\n",
              "      <td>False</td>\n",
              "    </tr>\n",
              "    <tr>\n",
              "      <th>29</th>\n",
              "      <td>False</td>\n",
              "      <td>False</td>\n",
              "      <td>False</td>\n",
              "      <td>False</td>\n",
              "    </tr>\n",
              "    <tr>\n",
              "      <th>30</th>\n",
              "      <td>False</td>\n",
              "      <td>False</td>\n",
              "      <td>True</td>\n",
              "      <td>False</td>\n",
              "    </tr>\n",
              "    <tr>\n",
              "      <th>31</th>\n",
              "      <td>False</td>\n",
              "      <td>False</td>\n",
              "      <td>False</td>\n",
              "      <td>False</td>\n",
              "    </tr>\n",
              "    <tr>\n",
              "      <th>32</th>\n",
              "      <td>False</td>\n",
              "      <td>False</td>\n",
              "      <td>False</td>\n",
              "      <td>False</td>\n",
              "    </tr>\n",
              "    <tr>\n",
              "      <th>33</th>\n",
              "      <td>False</td>\n",
              "      <td>False</td>\n",
              "      <td>False</td>\n",
              "      <td>False</td>\n",
              "    </tr>\n",
              "    <tr>\n",
              "      <th>34</th>\n",
              "      <td>False</td>\n",
              "      <td>False</td>\n",
              "      <td>False</td>\n",
              "      <td>False</td>\n",
              "    </tr>\n",
              "    <tr>\n",
              "      <th>35</th>\n",
              "      <td>False</td>\n",
              "      <td>False</td>\n",
              "      <td>False</td>\n",
              "      <td>False</td>\n",
              "    </tr>\n",
              "    <tr>\n",
              "      <th>36</th>\n",
              "      <td>False</td>\n",
              "      <td>False</td>\n",
              "      <td>False</td>\n",
              "      <td>False</td>\n",
              "    </tr>\n",
              "    <tr>\n",
              "      <th>37</th>\n",
              "      <td>False</td>\n",
              "      <td>False</td>\n",
              "      <td>False</td>\n",
              "      <td>False</td>\n",
              "    </tr>\n",
              "    <tr>\n",
              "      <th>38</th>\n",
              "      <td>True</td>\n",
              "      <td>False</td>\n",
              "      <td>False</td>\n",
              "      <td>False</td>\n",
              "    </tr>\n",
              "    <tr>\n",
              "      <th>39</th>\n",
              "      <td>False</td>\n",
              "      <td>False</td>\n",
              "      <td>False</td>\n",
              "      <td>False</td>\n",
              "    </tr>\n",
              "    <tr>\n",
              "      <th>40</th>\n",
              "      <td>False</td>\n",
              "      <td>False</td>\n",
              "      <td>False</td>\n",
              "      <td>False</td>\n",
              "    </tr>\n",
              "    <tr>\n",
              "      <th>41</th>\n",
              "      <td>False</td>\n",
              "      <td>False</td>\n",
              "      <td>False</td>\n",
              "      <td>False</td>\n",
              "    </tr>\n",
              "    <tr>\n",
              "      <th>42</th>\n",
              "      <td>False</td>\n",
              "      <td>False</td>\n",
              "      <td>False</td>\n",
              "      <td>False</td>\n",
              "    </tr>\n",
              "    <tr>\n",
              "      <th>43</th>\n",
              "      <td>False</td>\n",
              "      <td>False</td>\n",
              "      <td>False</td>\n",
              "      <td>False</td>\n",
              "    </tr>\n",
              "    <tr>\n",
              "      <th>44</th>\n",
              "      <td>False</td>\n",
              "      <td>False</td>\n",
              "      <td>False</td>\n",
              "      <td>False</td>\n",
              "    </tr>\n",
              "    <tr>\n",
              "      <th>45</th>\n",
              "      <td>False</td>\n",
              "      <td>False</td>\n",
              "      <td>False</td>\n",
              "      <td>False</td>\n",
              "    </tr>\n",
              "    <tr>\n",
              "      <th>46</th>\n",
              "      <td>False</td>\n",
              "      <td>False</td>\n",
              "      <td>False</td>\n",
              "      <td>False</td>\n",
              "    </tr>\n",
              "  </tbody>\n",
              "</table>\n",
              "</div>"
            ],
            "text/plain": [
              "    health_spending_per_person_in_thousands  ...  percentagethat_slept_under_a_bednet\n",
              "0                                     False  ...                                False\n",
              "1                                     False  ...                                False\n",
              "2                                     False  ...                                False\n",
              "3                                     False  ...                                False\n",
              "4                                      True  ...                                False\n",
              "5                                     False  ...                                False\n",
              "6                                     False  ...                                False\n",
              "7                                     False  ...                                False\n",
              "8                                     False  ...                                False\n",
              "9                                     False  ...                                False\n",
              "10                                    False  ...                                False\n",
              "11                                    False  ...                                False\n",
              "12                                    False  ...                                False\n",
              "13                                    False  ...                                False\n",
              "14                                    False  ...                                False\n",
              "15                                    False  ...                                False\n",
              "16                                    False  ...                                False\n",
              "17                                    False  ...                                False\n",
              "18                                    False  ...                                False\n",
              "19                                    False  ...                                False\n",
              "20                                     True  ...                                False\n",
              "21                                    False  ...                                False\n",
              "22                                    False  ...                                False\n",
              "23                                    False  ...                                False\n",
              "24                                    False  ...                                False\n",
              "25                                    False  ...                                False\n",
              "26                                    False  ...                                False\n",
              "27                                    False  ...                                False\n",
              "28                                    False  ...                                False\n",
              "29                                    False  ...                                False\n",
              "30                                    False  ...                                False\n",
              "31                                    False  ...                                False\n",
              "32                                    False  ...                                False\n",
              "33                                    False  ...                                False\n",
              "34                                    False  ...                                False\n",
              "35                                    False  ...                                False\n",
              "36                                    False  ...                                False\n",
              "37                                    False  ...                                False\n",
              "38                                     True  ...                                False\n",
              "39                                    False  ...                                False\n",
              "40                                    False  ...                                False\n",
              "41                                    False  ...                                False\n",
              "42                                    False  ...                                False\n",
              "43                                    False  ...                                False\n",
              "44                                    False  ...                                False\n",
              "45                                    False  ...                                False\n",
              "46                                    False  ...                                False\n",
              "\n",
              "[47 rows x 4 columns]"
            ]
          },
          "metadata": {
            "tags": []
          },
          "execution_count": 20
        }
      ]
    },
    {
      "cell_type": "code",
      "metadata": {
        "id": "NMaazKdo8QS3",
        "colab_type": "code",
        "colab": {}
      },
      "source": [
        "# Dropping outliers\n",
        "#\n",
        "Malaria = Malaria[ ~ ((Malaria < Q1 - 1.5 * Q2) | (Malaria > Q3 + 1.5 * Q2)).any(axis = 1)]"
      ],
      "execution_count": 0,
      "outputs": []
    },
    {
      "cell_type": "code",
      "metadata": {
        "id": "GyxcrkxK9DDv",
        "colab_type": "code",
        "outputId": "30224d7c-5c39-4a10-db3a-5c644e97c037",
        "colab": {
          "base_uri": "https://localhost:8080/",
          "height": 34
        }
      },
      "source": [
        "##\n",
        "## Checking on the shape of the table\n",
        "#\n",
        "Malaria.shape"
      ],
      "execution_count": 0,
      "outputs": [
        {
          "output_type": "execute_result",
          "data": {
            "text/plain": [
              "(43, 4)"
            ]
          },
          "metadata": {
            "tags": []
          },
          "execution_count": 22
        }
      ]
    },
    {
      "cell_type": "markdown",
      "metadata": {
        "id": "TEiJH1cy29Dt",
        "colab_type": "text"
      },
      "source": [
        "### Completeness"
      ]
    },
    {
      "cell_type": "markdown",
      "metadata": {
        "id": "Z95PFxYS3UpG",
        "colab_type": "text"
      },
      "source": [
        "Checking for and replacing null values"
      ]
    },
    {
      "cell_type": "code",
      "metadata": {
        "id": "f5rdFOSm54Jx",
        "colab_type": "code",
        "outputId": "9a08d20e-a86e-4f37-f2db-ad8ac8a0a9ce",
        "colab": {
          "base_uri": "https://localhost:8080/",
          "height": 1000
        }
      },
      "source": [
        "##\n",
        "## checking for null values\n",
        "#\n",
        "Malaria.isnull()"
      ],
      "execution_count": 0,
      "outputs": [
        {
          "output_type": "execute_result",
          "data": {
            "text/html": [
              "<div>\n",
              "<style scoped>\n",
              "    .dataframe tbody tr th:only-of-type {\n",
              "        vertical-align: middle;\n",
              "    }\n",
              "\n",
              "    .dataframe tbody tr th {\n",
              "        vertical-align: top;\n",
              "    }\n",
              "\n",
              "    .dataframe thead th {\n",
              "        text-align: right;\n",
              "    }\n",
              "</style>\n",
              "<table border=\"1\" class=\"dataframe\">\n",
              "  <thead>\n",
              "    <tr style=\"text-align: right;\">\n",
              "      <th></th>\n",
              "      <th>objectid</th>\n",
              "      <th>name_of_county</th>\n",
              "      <th>percentagethat_slept_under_a_bednet</th>\n",
              "      <th>percentage_that_had_a_fever</th>\n",
              "      <th>health_spending_per_person_in_thousands</th>\n",
              "    </tr>\n",
              "  </thead>\n",
              "  <tbody>\n",
              "    <tr>\n",
              "      <th>0</th>\n",
              "      <td>False</td>\n",
              "      <td>False</td>\n",
              "      <td>False</td>\n",
              "      <td>False</td>\n",
              "      <td>False</td>\n",
              "    </tr>\n",
              "    <tr>\n",
              "      <th>1</th>\n",
              "      <td>False</td>\n",
              "      <td>False</td>\n",
              "      <td>False</td>\n",
              "      <td>False</td>\n",
              "      <td>False</td>\n",
              "    </tr>\n",
              "    <tr>\n",
              "      <th>2</th>\n",
              "      <td>False</td>\n",
              "      <td>False</td>\n",
              "      <td>False</td>\n",
              "      <td>False</td>\n",
              "      <td>False</td>\n",
              "    </tr>\n",
              "    <tr>\n",
              "      <th>3</th>\n",
              "      <td>False</td>\n",
              "      <td>False</td>\n",
              "      <td>False</td>\n",
              "      <td>False</td>\n",
              "      <td>False</td>\n",
              "    </tr>\n",
              "    <tr>\n",
              "      <th>4</th>\n",
              "      <td>False</td>\n",
              "      <td>False</td>\n",
              "      <td>False</td>\n",
              "      <td>False</td>\n",
              "      <td>False</td>\n",
              "    </tr>\n",
              "    <tr>\n",
              "      <th>5</th>\n",
              "      <td>False</td>\n",
              "      <td>False</td>\n",
              "      <td>False</td>\n",
              "      <td>False</td>\n",
              "      <td>False</td>\n",
              "    </tr>\n",
              "    <tr>\n",
              "      <th>6</th>\n",
              "      <td>False</td>\n",
              "      <td>False</td>\n",
              "      <td>False</td>\n",
              "      <td>False</td>\n",
              "      <td>False</td>\n",
              "    </tr>\n",
              "    <tr>\n",
              "      <th>7</th>\n",
              "      <td>False</td>\n",
              "      <td>False</td>\n",
              "      <td>False</td>\n",
              "      <td>False</td>\n",
              "      <td>False</td>\n",
              "    </tr>\n",
              "    <tr>\n",
              "      <th>8</th>\n",
              "      <td>False</td>\n",
              "      <td>False</td>\n",
              "      <td>False</td>\n",
              "      <td>False</td>\n",
              "      <td>False</td>\n",
              "    </tr>\n",
              "    <tr>\n",
              "      <th>9</th>\n",
              "      <td>False</td>\n",
              "      <td>False</td>\n",
              "      <td>False</td>\n",
              "      <td>False</td>\n",
              "      <td>False</td>\n",
              "    </tr>\n",
              "    <tr>\n",
              "      <th>10</th>\n",
              "      <td>False</td>\n",
              "      <td>False</td>\n",
              "      <td>False</td>\n",
              "      <td>False</td>\n",
              "      <td>False</td>\n",
              "    </tr>\n",
              "    <tr>\n",
              "      <th>11</th>\n",
              "      <td>False</td>\n",
              "      <td>False</td>\n",
              "      <td>False</td>\n",
              "      <td>False</td>\n",
              "      <td>False</td>\n",
              "    </tr>\n",
              "    <tr>\n",
              "      <th>12</th>\n",
              "      <td>False</td>\n",
              "      <td>False</td>\n",
              "      <td>False</td>\n",
              "      <td>False</td>\n",
              "      <td>False</td>\n",
              "    </tr>\n",
              "    <tr>\n",
              "      <th>13</th>\n",
              "      <td>False</td>\n",
              "      <td>False</td>\n",
              "      <td>False</td>\n",
              "      <td>False</td>\n",
              "      <td>False</td>\n",
              "    </tr>\n",
              "    <tr>\n",
              "      <th>14</th>\n",
              "      <td>False</td>\n",
              "      <td>False</td>\n",
              "      <td>False</td>\n",
              "      <td>False</td>\n",
              "      <td>False</td>\n",
              "    </tr>\n",
              "    <tr>\n",
              "      <th>15</th>\n",
              "      <td>False</td>\n",
              "      <td>False</td>\n",
              "      <td>False</td>\n",
              "      <td>False</td>\n",
              "      <td>False</td>\n",
              "    </tr>\n",
              "    <tr>\n",
              "      <th>16</th>\n",
              "      <td>False</td>\n",
              "      <td>False</td>\n",
              "      <td>False</td>\n",
              "      <td>False</td>\n",
              "      <td>False</td>\n",
              "    </tr>\n",
              "    <tr>\n",
              "      <th>17</th>\n",
              "      <td>False</td>\n",
              "      <td>False</td>\n",
              "      <td>False</td>\n",
              "      <td>False</td>\n",
              "      <td>False</td>\n",
              "    </tr>\n",
              "    <tr>\n",
              "      <th>18</th>\n",
              "      <td>False</td>\n",
              "      <td>False</td>\n",
              "      <td>False</td>\n",
              "      <td>False</td>\n",
              "      <td>False</td>\n",
              "    </tr>\n",
              "    <tr>\n",
              "      <th>19</th>\n",
              "      <td>False</td>\n",
              "      <td>False</td>\n",
              "      <td>False</td>\n",
              "      <td>False</td>\n",
              "      <td>False</td>\n",
              "    </tr>\n",
              "    <tr>\n",
              "      <th>20</th>\n",
              "      <td>False</td>\n",
              "      <td>False</td>\n",
              "      <td>False</td>\n",
              "      <td>False</td>\n",
              "      <td>False</td>\n",
              "    </tr>\n",
              "    <tr>\n",
              "      <th>21</th>\n",
              "      <td>False</td>\n",
              "      <td>False</td>\n",
              "      <td>False</td>\n",
              "      <td>False</td>\n",
              "      <td>False</td>\n",
              "    </tr>\n",
              "    <tr>\n",
              "      <th>22</th>\n",
              "      <td>False</td>\n",
              "      <td>False</td>\n",
              "      <td>False</td>\n",
              "      <td>False</td>\n",
              "      <td>False</td>\n",
              "    </tr>\n",
              "    <tr>\n",
              "      <th>23</th>\n",
              "      <td>False</td>\n",
              "      <td>False</td>\n",
              "      <td>False</td>\n",
              "      <td>False</td>\n",
              "      <td>False</td>\n",
              "    </tr>\n",
              "    <tr>\n",
              "      <th>24</th>\n",
              "      <td>False</td>\n",
              "      <td>False</td>\n",
              "      <td>False</td>\n",
              "      <td>False</td>\n",
              "      <td>False</td>\n",
              "    </tr>\n",
              "    <tr>\n",
              "      <th>25</th>\n",
              "      <td>False</td>\n",
              "      <td>False</td>\n",
              "      <td>False</td>\n",
              "      <td>False</td>\n",
              "      <td>False</td>\n",
              "    </tr>\n",
              "    <tr>\n",
              "      <th>26</th>\n",
              "      <td>False</td>\n",
              "      <td>False</td>\n",
              "      <td>False</td>\n",
              "      <td>False</td>\n",
              "      <td>False</td>\n",
              "    </tr>\n",
              "    <tr>\n",
              "      <th>27</th>\n",
              "      <td>False</td>\n",
              "      <td>False</td>\n",
              "      <td>False</td>\n",
              "      <td>False</td>\n",
              "      <td>False</td>\n",
              "    </tr>\n",
              "    <tr>\n",
              "      <th>28</th>\n",
              "      <td>False</td>\n",
              "      <td>False</td>\n",
              "      <td>False</td>\n",
              "      <td>False</td>\n",
              "      <td>False</td>\n",
              "    </tr>\n",
              "    <tr>\n",
              "      <th>29</th>\n",
              "      <td>False</td>\n",
              "      <td>False</td>\n",
              "      <td>False</td>\n",
              "      <td>False</td>\n",
              "      <td>False</td>\n",
              "    </tr>\n",
              "    <tr>\n",
              "      <th>30</th>\n",
              "      <td>False</td>\n",
              "      <td>False</td>\n",
              "      <td>False</td>\n",
              "      <td>False</td>\n",
              "      <td>False</td>\n",
              "    </tr>\n",
              "    <tr>\n",
              "      <th>31</th>\n",
              "      <td>False</td>\n",
              "      <td>False</td>\n",
              "      <td>False</td>\n",
              "      <td>False</td>\n",
              "      <td>False</td>\n",
              "    </tr>\n",
              "    <tr>\n",
              "      <th>32</th>\n",
              "      <td>False</td>\n",
              "      <td>False</td>\n",
              "      <td>False</td>\n",
              "      <td>False</td>\n",
              "      <td>False</td>\n",
              "    </tr>\n",
              "    <tr>\n",
              "      <th>33</th>\n",
              "      <td>False</td>\n",
              "      <td>False</td>\n",
              "      <td>False</td>\n",
              "      <td>False</td>\n",
              "      <td>False</td>\n",
              "    </tr>\n",
              "    <tr>\n",
              "      <th>34</th>\n",
              "      <td>False</td>\n",
              "      <td>False</td>\n",
              "      <td>False</td>\n",
              "      <td>False</td>\n",
              "      <td>False</td>\n",
              "    </tr>\n",
              "    <tr>\n",
              "      <th>35</th>\n",
              "      <td>False</td>\n",
              "      <td>False</td>\n",
              "      <td>False</td>\n",
              "      <td>False</td>\n",
              "      <td>False</td>\n",
              "    </tr>\n",
              "    <tr>\n",
              "      <th>36</th>\n",
              "      <td>False</td>\n",
              "      <td>False</td>\n",
              "      <td>False</td>\n",
              "      <td>False</td>\n",
              "      <td>False</td>\n",
              "    </tr>\n",
              "    <tr>\n",
              "      <th>37</th>\n",
              "      <td>False</td>\n",
              "      <td>False</td>\n",
              "      <td>False</td>\n",
              "      <td>False</td>\n",
              "      <td>False</td>\n",
              "    </tr>\n",
              "    <tr>\n",
              "      <th>38</th>\n",
              "      <td>False</td>\n",
              "      <td>False</td>\n",
              "      <td>False</td>\n",
              "      <td>False</td>\n",
              "      <td>False</td>\n",
              "    </tr>\n",
              "    <tr>\n",
              "      <th>39</th>\n",
              "      <td>False</td>\n",
              "      <td>False</td>\n",
              "      <td>False</td>\n",
              "      <td>False</td>\n",
              "      <td>False</td>\n",
              "    </tr>\n",
              "    <tr>\n",
              "      <th>40</th>\n",
              "      <td>False</td>\n",
              "      <td>False</td>\n",
              "      <td>False</td>\n",
              "      <td>False</td>\n",
              "      <td>False</td>\n",
              "    </tr>\n",
              "    <tr>\n",
              "      <th>41</th>\n",
              "      <td>False</td>\n",
              "      <td>False</td>\n",
              "      <td>False</td>\n",
              "      <td>False</td>\n",
              "      <td>False</td>\n",
              "    </tr>\n",
              "    <tr>\n",
              "      <th>42</th>\n",
              "      <td>False</td>\n",
              "      <td>False</td>\n",
              "      <td>False</td>\n",
              "      <td>False</td>\n",
              "      <td>False</td>\n",
              "    </tr>\n",
              "    <tr>\n",
              "      <th>43</th>\n",
              "      <td>False</td>\n",
              "      <td>False</td>\n",
              "      <td>False</td>\n",
              "      <td>False</td>\n",
              "      <td>False</td>\n",
              "    </tr>\n",
              "    <tr>\n",
              "      <th>44</th>\n",
              "      <td>False</td>\n",
              "      <td>False</td>\n",
              "      <td>False</td>\n",
              "      <td>False</td>\n",
              "      <td>False</td>\n",
              "    </tr>\n",
              "    <tr>\n",
              "      <th>45</th>\n",
              "      <td>False</td>\n",
              "      <td>False</td>\n",
              "      <td>False</td>\n",
              "      <td>False</td>\n",
              "      <td>False</td>\n",
              "    </tr>\n",
              "    <tr>\n",
              "      <th>46</th>\n",
              "      <td>False</td>\n",
              "      <td>False</td>\n",
              "      <td>False</td>\n",
              "      <td>False</td>\n",
              "      <td>False</td>\n",
              "    </tr>\n",
              "  </tbody>\n",
              "</table>\n",
              "</div>"
            ],
            "text/plain": [
              "    objectid  ...  health_spending_per_person_in_thousands\n",
              "0      False  ...                                    False\n",
              "1      False  ...                                    False\n",
              "2      False  ...                                    False\n",
              "3      False  ...                                    False\n",
              "4      False  ...                                    False\n",
              "5      False  ...                                    False\n",
              "6      False  ...                                    False\n",
              "7      False  ...                                    False\n",
              "8      False  ...                                    False\n",
              "9      False  ...                                    False\n",
              "10     False  ...                                    False\n",
              "11     False  ...                                    False\n",
              "12     False  ...                                    False\n",
              "13     False  ...                                    False\n",
              "14     False  ...                                    False\n",
              "15     False  ...                                    False\n",
              "16     False  ...                                    False\n",
              "17     False  ...                                    False\n",
              "18     False  ...                                    False\n",
              "19     False  ...                                    False\n",
              "20     False  ...                                    False\n",
              "21     False  ...                                    False\n",
              "22     False  ...                                    False\n",
              "23     False  ...                                    False\n",
              "24     False  ...                                    False\n",
              "25     False  ...                                    False\n",
              "26     False  ...                                    False\n",
              "27     False  ...                                    False\n",
              "28     False  ...                                    False\n",
              "29     False  ...                                    False\n",
              "30     False  ...                                    False\n",
              "31     False  ...                                    False\n",
              "32     False  ...                                    False\n",
              "33     False  ...                                    False\n",
              "34     False  ...                                    False\n",
              "35     False  ...                                    False\n",
              "36     False  ...                                    False\n",
              "37     False  ...                                    False\n",
              "38     False  ...                                    False\n",
              "39     False  ...                                    False\n",
              "40     False  ...                                    False\n",
              "41     False  ...                                    False\n",
              "42     False  ...                                    False\n",
              "43     False  ...                                    False\n",
              "44     False  ...                                    False\n",
              "45     False  ...                                    False\n",
              "46     False  ...                                    False\n",
              "\n",
              "[47 rows x 5 columns]"
            ]
          },
          "metadata": {
            "tags": []
          },
          "execution_count": 17
        }
      ]
    },
    {
      "cell_type": "code",
      "metadata": {
        "id": "ygUz30lp3BoU",
        "colab_type": "code",
        "outputId": "45571235-d2fc-49ce-f0b2-099d0bb3baef",
        "colab": {
          "base_uri": "https://localhost:8080/",
          "height": 119
        }
      },
      "source": [
        "# Checking for sum of null values in the table\n",
        "#\n",
        "Malaria.isnull().sum()"
      ],
      "execution_count": 0,
      "outputs": [
        {
          "output_type": "execute_result",
          "data": {
            "text/plain": [
              "objectid                                   0\n",
              "name_of_county                             0\n",
              "percentagethat_slept_under_a_bednet        0\n",
              "percentage_that_had_a_fever                0\n",
              "health_spending_per_person_in_Thousands    0\n",
              "dtype: int64"
            ]
          },
          "metadata": {
            "tags": []
          },
          "execution_count": 12
        }
      ]
    },
    {
      "cell_type": "markdown",
      "metadata": {
        "id": "f6LtyJPvdP5K",
        "colab_type": "text"
      },
      "source": [
        "### Consistency"
      ]
    },
    {
      "cell_type": "markdown",
      "metadata": {
        "id": "iZ6INjJ492i4",
        "colab_type": "text"
      },
      "source": [
        "Identifying duplicate rows"
      ]
    },
    {
      "cell_type": "code",
      "metadata": {
        "id": "jP1sBa_87eVH",
        "colab_type": "code",
        "outputId": "28dd4f61-06bf-4dfa-a12b-272182a1cf59",
        "colab": {
          "base_uri": "https://localhost:8080/",
          "height": 69
        }
      },
      "source": [
        "# Checking for and displaying duplicated rows in our table\n",
        "#\n",
        "Malaria[Malaria.duplicated()]"
      ],
      "execution_count": 0,
      "outputs": [
        {
          "output_type": "execute_result",
          "data": {
            "text/html": [
              "<div>\n",
              "<style scoped>\n",
              "    .dataframe tbody tr th:only-of-type {\n",
              "        vertical-align: middle;\n",
              "    }\n",
              "\n",
              "    .dataframe tbody tr th {\n",
              "        vertical-align: top;\n",
              "    }\n",
              "\n",
              "    .dataframe thead th {\n",
              "        text-align: right;\n",
              "    }\n",
              "</style>\n",
              "<table border=\"1\" class=\"dataframe\">\n",
              "  <thead>\n",
              "    <tr style=\"text-align: right;\">\n",
              "      <th></th>\n",
              "      <th>name_of_county</th>\n",
              "      <th>percentagethat_slept_under_a_bednet</th>\n",
              "      <th>percentage_that_had_a_fever</th>\n",
              "      <th>health_spending_per_person_in_thousands</th>\n",
              "    </tr>\n",
              "  </thead>\n",
              "  <tbody>\n",
              "  </tbody>\n",
              "</table>\n",
              "</div>"
            ],
            "text/plain": [
              "Empty DataFrame\n",
              "Columns: [name_of_county, percentagethat_slept_under_a_bednet, percentage_that_had_a_fever, health_spending_per_person_in_thousands]\n",
              "Index: []"
            ]
          },
          "metadata": {
            "tags": []
          },
          "execution_count": 24
        }
      ]
    },
    {
      "cell_type": "markdown",
      "metadata": {
        "id": "-ABAklI3-HgP",
        "colab_type": "text"
      },
      "source": [
        "Dropping duplicate rows"
      ]
    },
    {
      "cell_type": "code",
      "metadata": {
        "id": "95cqaALS-KeU",
        "colab_type": "code",
        "outputId": "3ba1922a-e0fd-47a2-8ddc-aa2623c082a2",
        "colab": {
          "base_uri": "https://localhost:8080/",
          "height": 34
        }
      },
      "source": [
        "# Dropping Duplicates\n",
        "#\n",
        "Malaria = Malaria.drop_duplicates()\n",
        "\n",
        "# checking the shape of the dataframe after dropping duplicates\n",
        "Malaria.shape"
      ],
      "execution_count": 0,
      "outputs": [
        {
          "output_type": "execute_result",
          "data": {
            "text/plain": [
              "(43, 4)"
            ]
          },
          "metadata": {
            "tags": []
          },
          "execution_count": 25
        }
      ]
    },
    {
      "cell_type": "markdown",
      "metadata": {
        "id": "T6UrplVediHw",
        "colab_type": "text"
      },
      "source": [
        "### Uniformity"
      ]
    },
    {
      "cell_type": "code",
      "metadata": {
        "id": "yvyu_Xrr9aC2",
        "colab_type": "code",
        "outputId": "89def001-4937-4cbf-8315-ad2ff2cdf7cc",
        "colab": {
          "base_uri": "https://localhost:8080/",
          "height": 85
        }
      },
      "source": [
        "##\n",
        "## Viewing the columns of the table\n",
        "#\n",
        "Malaria.columns"
      ],
      "execution_count": 0,
      "outputs": [
        {
          "output_type": "execute_result",
          "data": {
            "text/plain": [
              "Index(['name_of_county', 'percentagethat_slept_under_a_bednet',\n",
              "       'percentage_that_had_a_fever',\n",
              "       'health_spending_per_person_in_thousands'],\n",
              "      dtype='object')"
            ]
          },
          "metadata": {
            "tags": []
          },
          "execution_count": 23
        }
      ]
    },
    {
      "cell_type": "code",
      "metadata": {
        "id": "98ZgRZV432GQ",
        "colab_type": "code",
        "outputId": "385c07a7-b75d-4059-b92c-f753bedcbc6a",
        "colab": {
          "base_uri": "https://localhost:8080/",
          "height": 85
        }
      },
      "source": [
        "##\n",
        "## Changing the column names to lower case\n",
        "#\n",
        "Malaria.columns = Malaria.columns.str.lower().str.strip().str.replace(' ', '_').str.replace('.', '')\n",
        "\n",
        "# Confirmng that the dataframe columns have been renamed appriopriately\n",
        "Malaria.columns"
      ],
      "execution_count": 0,
      "outputs": [
        {
          "output_type": "execute_result",
          "data": {
            "text/plain": [
              "Index(['objectid', 'name_of_county', 'percentagethat_slept_under_a_bednet',\n",
              "       'percentage_that_had_a_fever',\n",
              "       'health_spending_per_person_in_thousands'],\n",
              "      dtype='object')"
            ]
          },
          "metadata": {
            "tags": []
          },
          "execution_count": 13
        }
      ]
    },
    {
      "cell_type": "code",
      "metadata": {
        "id": "Yvl9OP6n4qKP",
        "colab_type": "code",
        "outputId": "7ad2e09c-207f-42b6-9271-c527088928d3",
        "colab": {
          "base_uri": "https://localhost:8080/",
          "height": 119
        }
      },
      "source": [
        "##\n",
        "## Checking the data types of the table\n",
        "Malaria.dtypes"
      ],
      "execution_count": 0,
      "outputs": [
        {
          "output_type": "execute_result",
          "data": {
            "text/plain": [
              "objectid                                     int64\n",
              "name_of_county                              object\n",
              "percentagethat_slept_under_a_bednet        float64\n",
              "percentage_that_had_a_fever                float64\n",
              "health_spending_per_person_in_thousands      int64\n",
              "dtype: object"
            ]
          },
          "metadata": {
            "tags": []
          },
          "execution_count": 16
        }
      ]
    },
    {
      "cell_type": "code",
      "metadata": {
        "id": "pn0PCOGR69sJ",
        "colab_type": "code",
        "colab": {}
      },
      "source": [
        "## Dropping irrelevant columns\n",
        "##\n",
        "Column_to_be_dropped = ['objectid']\n",
        "Malaria.drop(Column_to_be_dropped, inplace=True, axis=1 )"
      ],
      "execution_count": 0,
      "outputs": []
    },
    {
      "cell_type": "code",
      "metadata": {
        "id": "XgxzY-EQ7L6D",
        "colab_type": "code",
        "outputId": "4ef14774-ff71-44e5-8a1f-0ecf403a1ee4",
        "colab": {
          "base_uri": "https://localhost:8080/",
          "height": 100
        }
      },
      "source": [
        "##\n",
        "## Viewing the dataset \n",
        "#\n",
        "Malaria.head(1)"
      ],
      "execution_count": 0,
      "outputs": [
        {
          "output_type": "execute_result",
          "data": {
            "text/html": [
              "<div>\n",
              "<style scoped>\n",
              "    .dataframe tbody tr th:only-of-type {\n",
              "        vertical-align: middle;\n",
              "    }\n",
              "\n",
              "    .dataframe tbody tr th {\n",
              "        vertical-align: top;\n",
              "    }\n",
              "\n",
              "    .dataframe thead th {\n",
              "        text-align: right;\n",
              "    }\n",
              "</style>\n",
              "<table border=\"1\" class=\"dataframe\">\n",
              "  <thead>\n",
              "    <tr style=\"text-align: right;\">\n",
              "      <th></th>\n",
              "      <th>name_of_county</th>\n",
              "      <th>percentagethat_slept_under_a_bednet</th>\n",
              "      <th>percentage_that_had_a_fever</th>\n",
              "      <th>health_spending_per_person_in_thousands</th>\n",
              "    </tr>\n",
              "  </thead>\n",
              "  <tbody>\n",
              "    <tr>\n",
              "      <th>0</th>\n",
              "      <td>BARINGO</td>\n",
              "      <td>24.2</td>\n",
              "      <td>14.9</td>\n",
              "      <td>29</td>\n",
              "    </tr>\n",
              "  </tbody>\n",
              "</table>\n",
              "</div>"
            ],
            "text/plain": [
              "  name_of_county  ...  health_spending_per_person_in_thousands\n",
              "0        BARINGO  ...                                       29\n",
              "\n",
              "[1 rows x 4 columns]"
            ]
          },
          "metadata": {
            "tags": []
          },
          "execution_count": 19
        }
      ]
    },
    {
      "cell_type": "code",
      "metadata": {
        "id": "QHKZuokOB8uG",
        "colab_type": "code",
        "outputId": "0e8159e5-7ac3-4150-d5b6-f2ac78140f28",
        "colab": {
          "base_uri": "https://localhost:8080/",
          "height": 1000
        }
      },
      "source": [
        "##\n",
        "## Rename columns\n",
        "Malaria.columns = ['county', '%_bednet_usage', '%_symptom_presentation', 'health_spending_000s']\n",
        "Malaria"
      ],
      "execution_count": 0,
      "outputs": [
        {
          "output_type": "execute_result",
          "data": {
            "text/html": [
              "<div>\n",
              "<style scoped>\n",
              "    .dataframe tbody tr th:only-of-type {\n",
              "        vertical-align: middle;\n",
              "    }\n",
              "\n",
              "    .dataframe tbody tr th {\n",
              "        vertical-align: top;\n",
              "    }\n",
              "\n",
              "    .dataframe thead th {\n",
              "        text-align: right;\n",
              "    }\n",
              "</style>\n",
              "<table border=\"1\" class=\"dataframe\">\n",
              "  <thead>\n",
              "    <tr style=\"text-align: right;\">\n",
              "      <th></th>\n",
              "      <th>county</th>\n",
              "      <th>%_bednet_usage</th>\n",
              "      <th>%_symptom_presentation</th>\n",
              "      <th>health_spending_000s</th>\n",
              "    </tr>\n",
              "  </thead>\n",
              "  <tbody>\n",
              "    <tr>\n",
              "      <th>0</th>\n",
              "      <td>BARINGO</td>\n",
              "      <td>24.2</td>\n",
              "      <td>14.9</td>\n",
              "      <td>29</td>\n",
              "    </tr>\n",
              "    <tr>\n",
              "      <th>1</th>\n",
              "      <td>BOMET</td>\n",
              "      <td>26.3</td>\n",
              "      <td>39.5</td>\n",
              "      <td>20</td>\n",
              "    </tr>\n",
              "    <tr>\n",
              "      <th>2</th>\n",
              "      <td>BUNGOMA</td>\n",
              "      <td>27.8</td>\n",
              "      <td>37.6</td>\n",
              "      <td>20</td>\n",
              "    </tr>\n",
              "    <tr>\n",
              "      <th>3</th>\n",
              "      <td>BUSIA</td>\n",
              "      <td>40.7</td>\n",
              "      <td>42.8</td>\n",
              "      <td>20</td>\n",
              "    </tr>\n",
              "    <tr>\n",
              "      <th>5</th>\n",
              "      <td>GARISSA</td>\n",
              "      <td>21.8</td>\n",
              "      <td>39.8</td>\n",
              "      <td>34</td>\n",
              "    </tr>\n",
              "    <tr>\n",
              "      <th>6</th>\n",
              "      <td>HOMABAY</td>\n",
              "      <td>38.4</td>\n",
              "      <td>46.6</td>\n",
              "      <td>37</td>\n",
              "    </tr>\n",
              "    <tr>\n",
              "      <th>7</th>\n",
              "      <td>ISIOLO</td>\n",
              "      <td>39.6</td>\n",
              "      <td>58.3</td>\n",
              "      <td>24</td>\n",
              "    </tr>\n",
              "    <tr>\n",
              "      <th>8</th>\n",
              "      <td>KAJIADO</td>\n",
              "      <td>42.6</td>\n",
              "      <td>33.7</td>\n",
              "      <td>42</td>\n",
              "    </tr>\n",
              "    <tr>\n",
              "      <th>9</th>\n",
              "      <td>KAKAMEGA</td>\n",
              "      <td>30.4</td>\n",
              "      <td>12.3</td>\n",
              "      <td>15</td>\n",
              "    </tr>\n",
              "    <tr>\n",
              "      <th>10</th>\n",
              "      <td>ELGEYO-MARAKWET</td>\n",
              "      <td>26.7</td>\n",
              "      <td>37.9</td>\n",
              "      <td>23</td>\n",
              "    </tr>\n",
              "    <tr>\n",
              "      <th>11</th>\n",
              "      <td>KERICHO</td>\n",
              "      <td>33.8</td>\n",
              "      <td>51.6</td>\n",
              "      <td>11</td>\n",
              "    </tr>\n",
              "    <tr>\n",
              "      <th>12</th>\n",
              "      <td>KIAMBU</td>\n",
              "      <td>14.5</td>\n",
              "      <td>22.8</td>\n",
              "      <td>20</td>\n",
              "    </tr>\n",
              "    <tr>\n",
              "      <th>13</th>\n",
              "      <td>KILIFI</td>\n",
              "      <td>38.5</td>\n",
              "      <td>45.4</td>\n",
              "      <td>26</td>\n",
              "    </tr>\n",
              "    <tr>\n",
              "      <th>14</th>\n",
              "      <td>KIRINYAGA</td>\n",
              "      <td>30.0</td>\n",
              "      <td>43.2</td>\n",
              "      <td>18</td>\n",
              "    </tr>\n",
              "    <tr>\n",
              "      <th>15</th>\n",
              "      <td>KISII</td>\n",
              "      <td>37.8</td>\n",
              "      <td>49.0</td>\n",
              "      <td>26</td>\n",
              "    </tr>\n",
              "    <tr>\n",
              "      <th>16</th>\n",
              "      <td>KISUMU</td>\n",
              "      <td>62.4</td>\n",
              "      <td>45.6</td>\n",
              "      <td>29</td>\n",
              "    </tr>\n",
              "    <tr>\n",
              "      <th>17</th>\n",
              "      <td>KITUI</td>\n",
              "      <td>13.0</td>\n",
              "      <td>50.5</td>\n",
              "      <td>46</td>\n",
              "    </tr>\n",
              "    <tr>\n",
              "      <th>18</th>\n",
              "      <td>KWALE</td>\n",
              "      <td>32.1</td>\n",
              "      <td>37.7</td>\n",
              "      <td>31</td>\n",
              "    </tr>\n",
              "    <tr>\n",
              "      <th>19</th>\n",
              "      <td>LAIKIPIA</td>\n",
              "      <td>12.3</td>\n",
              "      <td>14.9</td>\n",
              "      <td>29</td>\n",
              "    </tr>\n",
              "    <tr>\n",
              "      <th>21</th>\n",
              "      <td>MACHAKOS</td>\n",
              "      <td>31.7</td>\n",
              "      <td>40.9</td>\n",
              "      <td>16</td>\n",
              "    </tr>\n",
              "    <tr>\n",
              "      <th>22</th>\n",
              "      <td>MAKUENI</td>\n",
              "      <td>10.8</td>\n",
              "      <td>51.1</td>\n",
              "      <td>15</td>\n",
              "    </tr>\n",
              "    <tr>\n",
              "      <th>23</th>\n",
              "      <td>MANDERA</td>\n",
              "      <td>4.6</td>\n",
              "      <td>35.2</td>\n",
              "      <td>20</td>\n",
              "    </tr>\n",
              "    <tr>\n",
              "      <th>24</th>\n",
              "      <td>MARSABIT</td>\n",
              "      <td>11.1</td>\n",
              "      <td>44.0</td>\n",
              "      <td>46</td>\n",
              "    </tr>\n",
              "    <tr>\n",
              "      <th>25</th>\n",
              "      <td>MERU</td>\n",
              "      <td>24.0</td>\n",
              "      <td>42.6</td>\n",
              "      <td>22</td>\n",
              "    </tr>\n",
              "    <tr>\n",
              "      <th>26</th>\n",
              "      <td>MIGORI</td>\n",
              "      <td>40.1</td>\n",
              "      <td>63.0</td>\n",
              "      <td>23</td>\n",
              "    </tr>\n",
              "    <tr>\n",
              "      <th>27</th>\n",
              "      <td>MOMBASA</td>\n",
              "      <td>50.6</td>\n",
              "      <td>48.0</td>\n",
              "      <td>11</td>\n",
              "    </tr>\n",
              "    <tr>\n",
              "      <th>28</th>\n",
              "      <td>MURANGA</td>\n",
              "      <td>11.4</td>\n",
              "      <td>36.2</td>\n",
              "      <td>22</td>\n",
              "    </tr>\n",
              "    <tr>\n",
              "      <th>29</th>\n",
              "      <td>NAIROBI</td>\n",
              "      <td>38.0</td>\n",
              "      <td>37.7</td>\n",
              "      <td>7</td>\n",
              "    </tr>\n",
              "    <tr>\n",
              "      <th>31</th>\n",
              "      <td>NANDI</td>\n",
              "      <td>18.9</td>\n",
              "      <td>50.9</td>\n",
              "      <td>23</td>\n",
              "    </tr>\n",
              "    <tr>\n",
              "      <th>32</th>\n",
              "      <td>NAROK</td>\n",
              "      <td>12.9</td>\n",
              "      <td>55.8</td>\n",
              "      <td>7</td>\n",
              "    </tr>\n",
              "    <tr>\n",
              "      <th>33</th>\n",
              "      <td>NYAMIRA</td>\n",
              "      <td>40.9</td>\n",
              "      <td>38.9</td>\n",
              "      <td>22</td>\n",
              "    </tr>\n",
              "    <tr>\n",
              "      <th>34</th>\n",
              "      <td>NYANDARUA</td>\n",
              "      <td>1.7</td>\n",
              "      <td>14.4</td>\n",
              "      <td>17</td>\n",
              "    </tr>\n",
              "    <tr>\n",
              "      <th>35</th>\n",
              "      <td>NYERI</td>\n",
              "      <td>5.7</td>\n",
              "      <td>13.4</td>\n",
              "      <td>39</td>\n",
              "    </tr>\n",
              "    <tr>\n",
              "      <th>36</th>\n",
              "      <td>SAMBURU</td>\n",
              "      <td>3.2</td>\n",
              "      <td>37.1</td>\n",
              "      <td>34</td>\n",
              "    </tr>\n",
              "    <tr>\n",
              "      <th>37</th>\n",
              "      <td>SIAYA</td>\n",
              "      <td>46.7</td>\n",
              "      <td>54.4</td>\n",
              "      <td>22</td>\n",
              "    </tr>\n",
              "    <tr>\n",
              "      <th>39</th>\n",
              "      <td>TANA-RIVER</td>\n",
              "      <td>45.1</td>\n",
              "      <td>63.3</td>\n",
              "      <td>19</td>\n",
              "    </tr>\n",
              "    <tr>\n",
              "      <th>40</th>\n",
              "      <td>THARAKA-NITHI</td>\n",
              "      <td>41.3</td>\n",
              "      <td>33.8</td>\n",
              "      <td>18</td>\n",
              "    </tr>\n",
              "    <tr>\n",
              "      <th>41</th>\n",
              "      <td>TRANS-NZOIA</td>\n",
              "      <td>23.0</td>\n",
              "      <td>34.8</td>\n",
              "      <td>8</td>\n",
              "    </tr>\n",
              "    <tr>\n",
              "      <th>42</th>\n",
              "      <td>TURKANA</td>\n",
              "      <td>6.0</td>\n",
              "      <td>55.4</td>\n",
              "      <td>14</td>\n",
              "    </tr>\n",
              "    <tr>\n",
              "      <th>43</th>\n",
              "      <td>UASIN-GISHU</td>\n",
              "      <td>33.6</td>\n",
              "      <td>43.4</td>\n",
              "      <td>13</td>\n",
              "    </tr>\n",
              "    <tr>\n",
              "      <th>44</th>\n",
              "      <td>VIHIGA</td>\n",
              "      <td>28.5</td>\n",
              "      <td>33.4</td>\n",
              "      <td>10</td>\n",
              "    </tr>\n",
              "    <tr>\n",
              "      <th>45</th>\n",
              "      <td>WAJIR</td>\n",
              "      <td>18.3</td>\n",
              "      <td>54.8</td>\n",
              "      <td>21</td>\n",
              "    </tr>\n",
              "    <tr>\n",
              "      <th>46</th>\n",
              "      <td>WEST POKOT</td>\n",
              "      <td>15.9</td>\n",
              "      <td>60.4</td>\n",
              "      <td>24</td>\n",
              "    </tr>\n",
              "  </tbody>\n",
              "</table>\n",
              "</div>"
            ],
            "text/plain": [
              "             county  ...  health_spending_000s\n",
              "0           BARINGO  ...                    29\n",
              "1             BOMET  ...                    20\n",
              "2           BUNGOMA  ...                    20\n",
              "3             BUSIA  ...                    20\n",
              "5           GARISSA  ...                    34\n",
              "6           HOMABAY  ...                    37\n",
              "7            ISIOLO  ...                    24\n",
              "8           KAJIADO  ...                    42\n",
              "9          KAKAMEGA  ...                    15\n",
              "10  ELGEYO-MARAKWET  ...                    23\n",
              "11          KERICHO  ...                    11\n",
              "12           KIAMBU  ...                    20\n",
              "13           KILIFI  ...                    26\n",
              "14        KIRINYAGA  ...                    18\n",
              "15            KISII  ...                    26\n",
              "16           KISUMU  ...                    29\n",
              "17            KITUI  ...                    46\n",
              "18            KWALE  ...                    31\n",
              "19         LAIKIPIA  ...                    29\n",
              "21         MACHAKOS  ...                    16\n",
              "22          MAKUENI  ...                    15\n",
              "23          MANDERA  ...                    20\n",
              "24         MARSABIT  ...                    46\n",
              "25             MERU  ...                    22\n",
              "26           MIGORI  ...                    23\n",
              "27          MOMBASA  ...                    11\n",
              "28          MURANGA  ...                    22\n",
              "29          NAIROBI  ...                     7\n",
              "31            NANDI  ...                    23\n",
              "32            NAROK  ...                     7\n",
              "33          NYAMIRA  ...                    22\n",
              "34        NYANDARUA  ...                    17\n",
              "35            NYERI  ...                    39\n",
              "36          SAMBURU  ...                    34\n",
              "37            SIAYA  ...                    22\n",
              "39       TANA-RIVER  ...                    19\n",
              "40    THARAKA-NITHI  ...                    18\n",
              "41      TRANS-NZOIA  ...                     8\n",
              "42          TURKANA  ...                    14\n",
              "43      UASIN-GISHU  ...                    13\n",
              "44           VIHIGA  ...                    10\n",
              "45            WAJIR  ...                    21\n",
              "46       WEST POKOT  ...                    24\n",
              "\n",
              "[43 rows x 4 columns]"
            ]
          },
          "metadata": {
            "tags": []
          },
          "execution_count": 55
        }
      ]
    },
    {
      "cell_type": "markdown",
      "metadata": {
        "id": "azfSBwRe-652",
        "colab_type": "text"
      },
      "source": [
        "Exporting our  Cleaned Dataset to csv"
      ]
    },
    {
      "cell_type": "code",
      "metadata": {
        "id": "8asIKSRH_Dyn",
        "colab_type": "code",
        "colab": {}
      },
      "source": [
        "##\n",
        "## Export cleaned data to csv\n",
        "Malaria.to_csv('Malaria.csv')"
      ],
      "execution_count": 0,
      "outputs": []
    },
    {
      "cell_type": "markdown",
      "metadata": {
        "id": "EMQscVh2ds1J",
        "colab_type": "text"
      },
      "source": [
        "## Analysis"
      ]
    },
    {
      "cell_type": "markdown",
      "metadata": {
        "id": "axmuzphNJ-GC",
        "colab_type": "text"
      },
      "source": [
        "### Loading an SQL Environment"
      ]
    },
    {
      "cell_type": "markdown",
      "metadata": {
        "id": "eTQt0rU2EVOj",
        "colab_type": "text"
      },
      "source": [
        "Connecting to our database"
      ]
    },
    {
      "cell_type": "code",
      "metadata": {
        "id": "7W4qWZDfBPkU",
        "colab_type": "code",
        "outputId": "687215c4-254c-465a-f4e8-261b4ba310c6",
        "colab": {
          "base_uri": "https://localhost:8080/",
          "height": 68
        }
      },
      "source": [
        "##\n",
        "## Loading the sql\n",
        "#\n",
        "%load_ext sql\n",
        "\n",
        "%sql sqlite://"
      ],
      "execution_count": 0,
      "outputs": [
        {
          "output_type": "stream",
          "text": [
            "The sql extension is already loaded. To reload it, use:\n",
            "  %reload_ext sql\n"
          ],
          "name": "stdout"
        },
        {
          "output_type": "execute_result",
          "data": {
            "text/plain": [
              "'Connected: @None'"
            ]
          },
          "metadata": {
            "tags": []
          },
          "execution_count": 57
        }
      ]
    },
    {
      "cell_type": "code",
      "metadata": {
        "id": "MSCp8MYUE06k",
        "colab_type": "code",
        "colab": {}
      },
      "source": [
        "##\n",
        "## Importing libraries\n",
        "#\n",
        "import csv\n",
        "import pandas as pd"
      ],
      "execution_count": 0,
      "outputs": []
    },
    {
      "cell_type": "markdown",
      "metadata": {
        "id": "A2zI6DWeFQtH",
        "colab_type": "text"
      },
      "source": [
        "### Load table from a csv File"
      ]
    },
    {
      "cell_type": "code",
      "metadata": {
        "id": "gIUoAWZhFOOQ",
        "colab_type": "code",
        "outputId": "33e4f37a-07a7-4a15-f9de-6e80a9c37ab3",
        "colab": {
          "base_uri": "https://localhost:8080/",
          "height": 230
        }
      },
      "source": [
        "##\n",
        "## \n",
        "# Loading our table from the respective CSV files \n",
        "with open('Malaria.csv','r') as f:\n",
        "    Malaria = pd.read_csv(f, index_col=0, encoding='utf-8')\n",
        "%sql DROP TABLE if EXISTS Malaria;\n",
        "%sql PERSIST Malaria;\n",
        "%sql SELECT * FROM Malaria LIMIT 5;"
      ],
      "execution_count": 0,
      "outputs": [
        {
          "output_type": "stream",
          "text": [
            " * sqlite://\n",
            "Done.\n",
            " * sqlite://\n",
            " * sqlite://\n",
            "Done.\n"
          ],
          "name": "stdout"
        },
        {
          "output_type": "execute_result",
          "data": {
            "text/html": [
              "<table>\n",
              "    <tr>\n",
              "        <th>index</th>\n",
              "        <th>county</th>\n",
              "        <th>%_bednet_usage</th>\n",
              "        <th>%_symptom_presentation</th>\n",
              "        <th>health_spending_000s</th>\n",
              "    </tr>\n",
              "    <tr>\n",
              "        <td>0</td>\n",
              "        <td>BARINGO</td>\n",
              "        <td>24.2</td>\n",
              "        <td>14.9</td>\n",
              "        <td>29</td>\n",
              "    </tr>\n",
              "    <tr>\n",
              "        <td>1</td>\n",
              "        <td>BOMET</td>\n",
              "        <td>26.3</td>\n",
              "        <td>39.5</td>\n",
              "        <td>20</td>\n",
              "    </tr>\n",
              "    <tr>\n",
              "        <td>2</td>\n",
              "        <td>BUNGOMA</td>\n",
              "        <td>27.8</td>\n",
              "        <td>37.6</td>\n",
              "        <td>20</td>\n",
              "    </tr>\n",
              "    <tr>\n",
              "        <td>3</td>\n",
              "        <td>BUSIA</td>\n",
              "        <td>40.7</td>\n",
              "        <td>42.8</td>\n",
              "        <td>20</td>\n",
              "    </tr>\n",
              "    <tr>\n",
              "        <td>5</td>\n",
              "        <td>GARISSA</td>\n",
              "        <td>21.8</td>\n",
              "        <td>39.8</td>\n",
              "        <td>34</td>\n",
              "    </tr>\n",
              "</table>"
            ],
            "text/plain": [
              "[(0, 'BARINGO', 24.2, 14.9, 29),\n",
              " (1, 'BOMET', 26.3, 39.5, 20),\n",
              " (2, 'BUNGOMA', 27.8, 37.6, 20),\n",
              " (3, 'BUSIA', 40.7, 42.8, 20),\n",
              " (5, 'GARISSA', 21.8, 39.8, 34)]"
            ]
          },
          "metadata": {
            "tags": []
          },
          "execution_count": 59
        }
      ]
    },
    {
      "cell_type": "code",
      "metadata": {
        "id": "NcRSejYmG27z",
        "colab_type": "code",
        "outputId": "6402463d-40ac-46d8-9a7d-24a9808eefe5",
        "colab": {
          "base_uri": "https://localhost:8080/",
          "height": 95
        }
      },
      "source": [
        "## Which county had the highest % of population sleeping under a bednet\n",
        "##\n",
        "%%sql \n",
        "SELECT county, MAX(\"%_bednet_usage\") FROM Malaria;"
      ],
      "execution_count": 0,
      "outputs": [
        {
          "output_type": "stream",
          "text": [
            " * sqlite://\n",
            "Done.\n"
          ],
          "name": "stdout"
        },
        {
          "output_type": "execute_result",
          "data": {
            "text/html": [
              "<table>\n",
              "    <tr>\n",
              "        <th>county</th>\n",
              "        <th>MAX(&quot;%_bednet_usage&quot;)</th>\n",
              "    </tr>\n",
              "    <tr>\n",
              "        <td>KISUMU</td>\n",
              "        <td>62.4</td>\n",
              "    </tr>\n",
              "</table>"
            ],
            "text/plain": [
              "[('KISUMU', 62.4)]"
            ]
          },
          "metadata": {
            "tags": []
          },
          "execution_count": 61
        }
      ]
    },
    {
      "cell_type": "code",
      "metadata": {
        "id": "8dczcgkTJwSK",
        "colab_type": "code",
        "outputId": "12707a97-95ad-46bc-b710-b4fd4783f219",
        "colab": {
          "base_uri": "https://localhost:8080/",
          "height": 95
        }
      },
      "source": [
        "# County with the least % sleeping under a bed net\n",
        "%%sql\n",
        "SELECT county, MIN(\"%_bednet_usage\") FROM Malaria\n"
      ],
      "execution_count": 0,
      "outputs": [
        {
          "output_type": "stream",
          "text": [
            " * sqlite://\n",
            "Done.\n"
          ],
          "name": "stdout"
        },
        {
          "output_type": "execute_result",
          "data": {
            "text/html": [
              "<table>\n",
              "    <tr>\n",
              "        <th>county</th>\n",
              "        <th>MIN(&quot;%_bednet_usage&quot;)</th>\n",
              "    </tr>\n",
              "    <tr>\n",
              "        <td>NYANDARUA</td>\n",
              "        <td>1.7</td>\n",
              "    </tr>\n",
              "</table>"
            ],
            "text/plain": [
              "[('NYANDARUA', 1.7)]"
            ]
          },
          "metadata": {
            "tags": []
          },
          "execution_count": 62
        }
      ]
    },
    {
      "cell_type": "code",
      "metadata": {
        "id": "6CPV3FhmLSNI",
        "colab_type": "code",
        "outputId": "36a08d60-75f0-4baa-9ecd-3b47d428af81",
        "colab": {
          "base_uri": "https://localhost:8080/",
          "height": 95
        }
      },
      "source": [
        "## County with highest % presenting with symptopms .. is it the same county with the least bednet usage\n",
        "%%sql\n",
        "SELECT county, MAX(\"%_symptom_presentation\") FROM Malaria;"
      ],
      "execution_count": 0,
      "outputs": [
        {
          "output_type": "stream",
          "text": [
            " * sqlite://\n",
            "Done.\n"
          ],
          "name": "stdout"
        },
        {
          "output_type": "execute_result",
          "data": {
            "text/html": [
              "<table>\n",
              "    <tr>\n",
              "        <th>county</th>\n",
              "        <th>MAX(&quot;%_symptom_presentation&quot;)</th>\n",
              "    </tr>\n",
              "    <tr>\n",
              "        <td>TANA-RIVER</td>\n",
              "        <td>63.3</td>\n",
              "    </tr>\n",
              "</table>"
            ],
            "text/plain": [
              "[('TANA-RIVER', 63.3)]"
            ]
          },
          "metadata": {
            "tags": []
          },
          "execution_count": 63
        }
      ]
    },
    {
      "cell_type": "markdown",
      "metadata": {
        "id": "rRLMOeWuNHEI",
        "colab_type": "text"
      },
      "source": [
        "Its not the same county with neither the highest nor the least bednet usage"
      ]
    },
    {
      "cell_type": "code",
      "metadata": {
        "id": "h5lTPph-NPx4",
        "colab_type": "code",
        "outputId": "b46b5121-7587-41c7-d293-373438d518ec",
        "colab": {
          "base_uri": "https://localhost:8080/",
          "height": 95
        }
      },
      "source": [
        "##  County with the least % presenting with symptoms ..is it the same county with the highest bednet usage\n",
        "%%sql\n",
        "SELECT county, MIN(\"%_symptom_presentation\") FROM Malaria;"
      ],
      "execution_count": 0,
      "outputs": [
        {
          "output_type": "stream",
          "text": [
            " * sqlite://\n",
            "Done.\n"
          ],
          "name": "stdout"
        },
        {
          "output_type": "execute_result",
          "data": {
            "text/html": [
              "<table>\n",
              "    <tr>\n",
              "        <th>county</th>\n",
              "        <th>MIN(&quot;%_symptom_presentation&quot;)</th>\n",
              "    </tr>\n",
              "    <tr>\n",
              "        <td>KAKAMEGA</td>\n",
              "        <td>12.3</td>\n",
              "    </tr>\n",
              "</table>"
            ],
            "text/plain": [
              "[('KAKAMEGA', 12.3)]"
            ]
          },
          "metadata": {
            "tags": []
          },
          "execution_count": 64
        }
      ]
    },
    {
      "cell_type": "markdown",
      "metadata": {
        "id": "1HdGsW1CN_6c",
        "colab_type": "text"
      },
      "source": [
        "Its not the same county with neither the least nor the highest bednet usage"
      ]
    },
    {
      "cell_type": "code",
      "metadata": {
        "id": "8bJlR00sPtT4",
        "colab_type": "code",
        "outputId": "dc6df999-b660-4ec7-fe55-61c5647c14db",
        "colab": {
          "base_uri": "https://localhost:8080/",
          "height": 179
        }
      },
      "source": [
        "##\n",
        "##\n",
        "# Viweing table\n",
        "%%sql\n",
        "SELECT * FROM Malaria\n",
        "LIMIT 5;"
      ],
      "execution_count": 0,
      "outputs": [
        {
          "output_type": "stream",
          "text": [
            " * sqlite://\n",
            "Done.\n"
          ],
          "name": "stdout"
        },
        {
          "output_type": "execute_result",
          "data": {
            "text/html": [
              "<table>\n",
              "    <tr>\n",
              "        <th>index</th>\n",
              "        <th>county</th>\n",
              "        <th>%_bednet_usage</th>\n",
              "        <th>%_symptom_presentation</th>\n",
              "        <th>health_spending_000s</th>\n",
              "    </tr>\n",
              "    <tr>\n",
              "        <td>0</td>\n",
              "        <td>BARINGO</td>\n",
              "        <td>24.2</td>\n",
              "        <td>14.9</td>\n",
              "        <td>29</td>\n",
              "    </tr>\n",
              "    <tr>\n",
              "        <td>1</td>\n",
              "        <td>BOMET</td>\n",
              "        <td>26.3</td>\n",
              "        <td>39.5</td>\n",
              "        <td>20</td>\n",
              "    </tr>\n",
              "    <tr>\n",
              "        <td>2</td>\n",
              "        <td>BUNGOMA</td>\n",
              "        <td>27.8</td>\n",
              "        <td>37.6</td>\n",
              "        <td>20</td>\n",
              "    </tr>\n",
              "    <tr>\n",
              "        <td>3</td>\n",
              "        <td>BUSIA</td>\n",
              "        <td>40.7</td>\n",
              "        <td>42.8</td>\n",
              "        <td>20</td>\n",
              "    </tr>\n",
              "    <tr>\n",
              "        <td>5</td>\n",
              "        <td>GARISSA</td>\n",
              "        <td>21.8</td>\n",
              "        <td>39.8</td>\n",
              "        <td>34</td>\n",
              "    </tr>\n",
              "</table>"
            ],
            "text/plain": [
              "[(0, 'BARINGO', 24.2, 14.9, 29),\n",
              " (1, 'BOMET', 26.3, 39.5, 20),\n",
              " (2, 'BUNGOMA', 27.8, 37.6, 20),\n",
              " (3, 'BUSIA', 40.7, 42.8, 20),\n",
              " (5, 'GARISSA', 21.8, 39.8, 34)]"
            ]
          },
          "metadata": {
            "tags": []
          },
          "execution_count": 73
        }
      ]
    },
    {
      "cell_type": "code",
      "metadata": {
        "id": "y-SVOy8bOMCh",
        "colab_type": "code",
        "outputId": "781835d0-af2c-4ad2-808a-e9fac8433ad5",
        "colab": {
          "base_uri": "https://localhost:8080/",
          "height": 179
        }
      },
      "source": [
        "# Disregard\n",
        "#Top 5 Counties that are in immense need of bednets\n",
        "%%sql\n",
        "SELECT county, \"%_bednet_usage\" FROM Malaria\n",
        "ORDER BY \"%_bednet_usage\" ASC\n",
        "LIMIT 5;"
      ],
      "execution_count": 0,
      "outputs": [
        {
          "output_type": "stream",
          "text": [
            " * sqlite://\n",
            "Done.\n"
          ],
          "name": "stdout"
        },
        {
          "output_type": "execute_result",
          "data": {
            "text/html": [
              "<table>\n",
              "    <tr>\n",
              "        <th>county</th>\n",
              "        <th>%_bednet_usage</th>\n",
              "    </tr>\n",
              "    <tr>\n",
              "        <td>NYANDARUA</td>\n",
              "        <td>1.7</td>\n",
              "    </tr>\n",
              "    <tr>\n",
              "        <td>SAMBURU</td>\n",
              "        <td>3.2</td>\n",
              "    </tr>\n",
              "    <tr>\n",
              "        <td>MANDERA</td>\n",
              "        <td>4.6</td>\n",
              "    </tr>\n",
              "    <tr>\n",
              "        <td>NYERI</td>\n",
              "        <td>5.7</td>\n",
              "    </tr>\n",
              "    <tr>\n",
              "        <td>TURKANA</td>\n",
              "        <td>6.0</td>\n",
              "    </tr>\n",
              "</table>"
            ],
            "text/plain": [
              "[('NYANDARUA', 1.7),\n",
              " ('SAMBURU', 3.2),\n",
              " ('MANDERA', 4.6),\n",
              " ('NYERI', 5.7),\n",
              " ('TURKANA', 6.0)]"
            ]
          },
          "metadata": {
            "tags": []
          },
          "execution_count": 70
        }
      ]
    },
    {
      "cell_type": "code",
      "metadata": {
        "id": "XhE-5GnxPIzs",
        "colab_type": "code",
        "outputId": "78233c3c-6cdd-4f45-eb82-9949a0d07410",
        "colab": {
          "base_uri": "https://localhost:8080/",
          "height": 179
        }
      },
      "source": [
        "## Disregard\n",
        "## Top 5 Counties that will require less bednet supply need of bednets\n",
        "%%sql\n",
        "SELECT county, health_spending_000s FROM Malaria\n",
        "ORDER BY health_spending_000s DESC\n",
        "LIMIT 5;"
      ],
      "execution_count": 0,
      "outputs": [
        {
          "output_type": "stream",
          "text": [
            " * sqlite://\n",
            "Done.\n"
          ],
          "name": "stdout"
        },
        {
          "output_type": "execute_result",
          "data": {
            "text/html": [
              "<table>\n",
              "    <tr>\n",
              "        <th>county</th>\n",
              "        <th>health_spending_000s</th>\n",
              "    </tr>\n",
              "    <tr>\n",
              "        <td>KITUI</td>\n",
              "        <td>46</td>\n",
              "    </tr>\n",
              "    <tr>\n",
              "        <td>MARSABIT</td>\n",
              "        <td>46</td>\n",
              "    </tr>\n",
              "    <tr>\n",
              "        <td>KAJIADO</td>\n",
              "        <td>42</td>\n",
              "    </tr>\n",
              "    <tr>\n",
              "        <td>NYERI</td>\n",
              "        <td>39</td>\n",
              "    </tr>\n",
              "    <tr>\n",
              "        <td>HOMABAY</td>\n",
              "        <td>37</td>\n",
              "    </tr>\n",
              "</table>"
            ],
            "text/plain": [
              "[('KITUI', 46),\n",
              " ('MARSABIT', 46),\n",
              " ('KAJIADO', 42),\n",
              " ('NYERI', 39),\n",
              " ('HOMABAY', 37)]"
            ]
          },
          "metadata": {
            "tags": []
          },
          "execution_count": 77
        }
      ]
    },
    {
      "cell_type": "code",
      "metadata": {
        "id": "jeGQhxQkQde5",
        "colab_type": "code",
        "outputId": "12ffe81f-3ccc-41d7-8a66-5e904ab1c82c",
        "colab": {
          "base_uri": "https://localhost:8080/",
          "height": 95
        }
      },
      "source": [
        "## Which county had the highest health spending per person? \n",
        "%%sql\n",
        "SELECT county, MAX(health_spending_000s) FROM Malaria;"
      ],
      "execution_count": 0,
      "outputs": [
        {
          "output_type": "stream",
          "text": [
            " * sqlite://\n",
            "Done.\n"
          ],
          "name": "stdout"
        },
        {
          "output_type": "execute_result",
          "data": {
            "text/html": [
              "<table>\n",
              "    <tr>\n",
              "        <th>county</th>\n",
              "        <th>MAX(health_spending_000s)</th>\n",
              "    </tr>\n",
              "    <tr>\n",
              "        <td>KITUI</td>\n",
              "        <td>46</td>\n",
              "    </tr>\n",
              "</table>"
            ],
            "text/plain": [
              "[('KITUI', 46)]"
            ]
          },
          "metadata": {
            "tags": []
          },
          "execution_count": 78
        }
      ]
    },
    {
      "cell_type": "code",
      "metadata": {
        "id": "6H6puTf0RQVs",
        "colab_type": "code",
        "outputId": "dcbc529f-8775-4627-84d8-62c10c814a82",
        "colab": {
          "base_uri": "https://localhost:8080/",
          "height": 95
        }
      },
      "source": [
        "##\n",
        "# Which county had the least county spending\n",
        "#\n",
        "%%sql\n",
        "SELECT county, MIN(health_spending_000s) FROM Malaria;"
      ],
      "execution_count": 0,
      "outputs": [
        {
          "output_type": "stream",
          "text": [
            " * sqlite://\n",
            "Done.\n"
          ],
          "name": "stdout"
        },
        {
          "output_type": "execute_result",
          "data": {
            "text/html": [
              "<table>\n",
              "    <tr>\n",
              "        <th>county</th>\n",
              "        <th>MIN(health_spending_000s)</th>\n",
              "    </tr>\n",
              "    <tr>\n",
              "        <td>NAIROBI</td>\n",
              "        <td>7</td>\n",
              "    </tr>\n",
              "</table>"
            ],
            "text/plain": [
              "[('NAIROBI', 7)]"
            ]
          },
          "metadata": {
            "tags": []
          },
          "execution_count": 80
        }
      ]
    },
    {
      "cell_type": "code",
      "metadata": {
        "id": "56-MKf6XRVXC",
        "colab_type": "code",
        "outputId": "23f9520b-7052-4107-893a-6af9bbb3d84a",
        "colab": {
          "base_uri": "https://localhost:8080/",
          "height": 95
        }
      },
      "source": [
        "##\n",
        "## What is the average health spending on malaria in Kenya\n",
        "#\n",
        "%%sql\n",
        "SELECT AVG(health_spending_000s) FROM Malaria;"
      ],
      "execution_count": 0,
      "outputs": [
        {
          "output_type": "stream",
          "text": [
            " * sqlite://\n",
            "Done.\n"
          ],
          "name": "stdout"
        },
        {
          "output_type": "execute_result",
          "data": {
            "text/html": [
              "<table>\n",
              "    <tr>\n",
              "        <th>AVG(health_spending_000s)</th>\n",
              "    </tr>\n",
              "    <tr>\n",
              "        <td>22.627906976744185</td>\n",
              "    </tr>\n",
              "</table>"
            ],
            "text/plain": [
              "[(22.627906976744185,)]"
            ]
          },
          "metadata": {
            "tags": []
          },
          "execution_count": 82
        }
      ]
    },
    {
      "cell_type": "code",
      "metadata": {
        "id": "hf6dTzx2SKR-",
        "colab_type": "code",
        "outputId": "d7e6fe6a-44a1-465e-e97e-31db7b6ff2b7",
        "colab": {
          "base_uri": "https://localhost:8080/",
          "height": 599
        }
      },
      "source": [
        "## \n",
        "## Counties that are below the average of health spending on malaria in Kenya\n",
        "#\n",
        "%%sql\n",
        "SELECT county, health_spending_000s FROM Malaria \n",
        "WHERE health_spending_000s < (SELECT AVG(health_spending_000s) FROM Malaria);"
      ],
      "execution_count": 0,
      "outputs": [
        {
          "output_type": "stream",
          "text": [
            " * sqlite://\n",
            "Done.\n"
          ],
          "name": "stdout"
        },
        {
          "output_type": "execute_result",
          "data": {
            "text/html": [
              "<table>\n",
              "    <tr>\n",
              "        <th>county</th>\n",
              "        <th>health_spending_000s</th>\n",
              "    </tr>\n",
              "    <tr>\n",
              "        <td>BOMET</td>\n",
              "        <td>20</td>\n",
              "    </tr>\n",
              "    <tr>\n",
              "        <td>BUNGOMA</td>\n",
              "        <td>20</td>\n",
              "    </tr>\n",
              "    <tr>\n",
              "        <td>BUSIA</td>\n",
              "        <td>20</td>\n",
              "    </tr>\n",
              "    <tr>\n",
              "        <td>KAKAMEGA</td>\n",
              "        <td>15</td>\n",
              "    </tr>\n",
              "    <tr>\n",
              "        <td>KERICHO</td>\n",
              "        <td>11</td>\n",
              "    </tr>\n",
              "    <tr>\n",
              "        <td>KIAMBU</td>\n",
              "        <td>20</td>\n",
              "    </tr>\n",
              "    <tr>\n",
              "        <td>KIRINYAGA</td>\n",
              "        <td>18</td>\n",
              "    </tr>\n",
              "    <tr>\n",
              "        <td>MACHAKOS</td>\n",
              "        <td>16</td>\n",
              "    </tr>\n",
              "    <tr>\n",
              "        <td>MAKUENI</td>\n",
              "        <td>15</td>\n",
              "    </tr>\n",
              "    <tr>\n",
              "        <td>MANDERA</td>\n",
              "        <td>20</td>\n",
              "    </tr>\n",
              "    <tr>\n",
              "        <td>MERU</td>\n",
              "        <td>22</td>\n",
              "    </tr>\n",
              "    <tr>\n",
              "        <td>MOMBASA</td>\n",
              "        <td>11</td>\n",
              "    </tr>\n",
              "    <tr>\n",
              "        <td>MURANGA</td>\n",
              "        <td>22</td>\n",
              "    </tr>\n",
              "    <tr>\n",
              "        <td>NAIROBI</td>\n",
              "        <td>7</td>\n",
              "    </tr>\n",
              "    <tr>\n",
              "        <td>NAROK</td>\n",
              "        <td>7</td>\n",
              "    </tr>\n",
              "    <tr>\n",
              "        <td>NYAMIRA</td>\n",
              "        <td>22</td>\n",
              "    </tr>\n",
              "    <tr>\n",
              "        <td>NYANDARUA</td>\n",
              "        <td>17</td>\n",
              "    </tr>\n",
              "    <tr>\n",
              "        <td>SIAYA</td>\n",
              "        <td>22</td>\n",
              "    </tr>\n",
              "    <tr>\n",
              "        <td>TANA-RIVER</td>\n",
              "        <td>19</td>\n",
              "    </tr>\n",
              "    <tr>\n",
              "        <td>THARAKA-NITHI</td>\n",
              "        <td>18</td>\n",
              "    </tr>\n",
              "    <tr>\n",
              "        <td>TRANS-NZOIA</td>\n",
              "        <td>8</td>\n",
              "    </tr>\n",
              "    <tr>\n",
              "        <td>TURKANA</td>\n",
              "        <td>14</td>\n",
              "    </tr>\n",
              "    <tr>\n",
              "        <td>UASIN-GISHU</td>\n",
              "        <td>13</td>\n",
              "    </tr>\n",
              "    <tr>\n",
              "        <td>VIHIGA</td>\n",
              "        <td>10</td>\n",
              "    </tr>\n",
              "    <tr>\n",
              "        <td>WAJIR</td>\n",
              "        <td>21</td>\n",
              "    </tr>\n",
              "</table>"
            ],
            "text/plain": [
              "[('BOMET', 20),\n",
              " ('BUNGOMA', 20),\n",
              " ('BUSIA', 20),\n",
              " ('KAKAMEGA', 15),\n",
              " ('KERICHO', 11),\n",
              " ('KIAMBU', 20),\n",
              " ('KIRINYAGA', 18),\n",
              " ('MACHAKOS', 16),\n",
              " ('MAKUENI', 15),\n",
              " ('MANDERA', 20),\n",
              " ('MERU', 22),\n",
              " ('MOMBASA', 11),\n",
              " ('MURANGA', 22),\n",
              " ('NAIROBI', 7),\n",
              " ('NAROK', 7),\n",
              " ('NYAMIRA', 22),\n",
              " ('NYANDARUA', 17),\n",
              " ('SIAYA', 22),\n",
              " ('TANA-RIVER', 19),\n",
              " ('THARAKA-NITHI', 18),\n",
              " ('TRANS-NZOIA', 8),\n",
              " ('TURKANA', 14),\n",
              " ('UASIN-GISHU', 13),\n",
              " ('VIHIGA', 10),\n",
              " ('WAJIR', 21)]"
            ]
          },
          "metadata": {
            "tags": []
          },
          "execution_count": 86
        }
      ]
    },
    {
      "cell_type": "code",
      "metadata": {
        "id": "PhRZn67pSeAz",
        "colab_type": "code",
        "outputId": "ddeb6911-bbc4-43c7-b7e5-4f6c35af29ec",
        "colab": {
          "base_uri": "https://localhost:8080/",
          "height": 452
        }
      },
      "source": [
        "## \n",
        "## Counties that are above the average of health spending on malaria in Kenya\n",
        "%%sql\n",
        "SELECT county, health_spending_000s FROM Malaria \n",
        "WHERE health_spending_000s > (SELECT AVG(health_spending_000s) FROM Malaria);"
      ],
      "execution_count": 0,
      "outputs": [
        {
          "output_type": "stream",
          "text": [
            " * sqlite://\n",
            "Done.\n"
          ],
          "name": "stdout"
        },
        {
          "output_type": "execute_result",
          "data": {
            "text/html": [
              "<table>\n",
              "    <tr>\n",
              "        <th>county</th>\n",
              "        <th>health_spending_000s</th>\n",
              "    </tr>\n",
              "    <tr>\n",
              "        <td>BARINGO</td>\n",
              "        <td>29</td>\n",
              "    </tr>\n",
              "    <tr>\n",
              "        <td>GARISSA</td>\n",
              "        <td>34</td>\n",
              "    </tr>\n",
              "    <tr>\n",
              "        <td>HOMABAY</td>\n",
              "        <td>37</td>\n",
              "    </tr>\n",
              "    <tr>\n",
              "        <td>ISIOLO</td>\n",
              "        <td>24</td>\n",
              "    </tr>\n",
              "    <tr>\n",
              "        <td>KAJIADO</td>\n",
              "        <td>42</td>\n",
              "    </tr>\n",
              "    <tr>\n",
              "        <td>ELGEYO-MARAKWET</td>\n",
              "        <td>23</td>\n",
              "    </tr>\n",
              "    <tr>\n",
              "        <td>KILIFI</td>\n",
              "        <td>26</td>\n",
              "    </tr>\n",
              "    <tr>\n",
              "        <td>KISII</td>\n",
              "        <td>26</td>\n",
              "    </tr>\n",
              "    <tr>\n",
              "        <td>KISUMU</td>\n",
              "        <td>29</td>\n",
              "    </tr>\n",
              "    <tr>\n",
              "        <td>KITUI</td>\n",
              "        <td>46</td>\n",
              "    </tr>\n",
              "    <tr>\n",
              "        <td>KWALE</td>\n",
              "        <td>31</td>\n",
              "    </tr>\n",
              "    <tr>\n",
              "        <td>LAIKIPIA</td>\n",
              "        <td>29</td>\n",
              "    </tr>\n",
              "    <tr>\n",
              "        <td>MARSABIT</td>\n",
              "        <td>46</td>\n",
              "    </tr>\n",
              "    <tr>\n",
              "        <td>MIGORI</td>\n",
              "        <td>23</td>\n",
              "    </tr>\n",
              "    <tr>\n",
              "        <td>NANDI</td>\n",
              "        <td>23</td>\n",
              "    </tr>\n",
              "    <tr>\n",
              "        <td>NYERI</td>\n",
              "        <td>39</td>\n",
              "    </tr>\n",
              "    <tr>\n",
              "        <td>SAMBURU</td>\n",
              "        <td>34</td>\n",
              "    </tr>\n",
              "    <tr>\n",
              "        <td>WEST POKOT</td>\n",
              "        <td>24</td>\n",
              "    </tr>\n",
              "</table>"
            ],
            "text/plain": [
              "[('BARINGO', 29),\n",
              " ('GARISSA', 34),\n",
              " ('HOMABAY', 37),\n",
              " ('ISIOLO', 24),\n",
              " ('KAJIADO', 42),\n",
              " ('ELGEYO-MARAKWET', 23),\n",
              " ('KILIFI', 26),\n",
              " ('KISII', 26),\n",
              " ('KISUMU', 29),\n",
              " ('KITUI', 46),\n",
              " ('KWALE', 31),\n",
              " ('LAIKIPIA', 29),\n",
              " ('MARSABIT', 46),\n",
              " ('MIGORI', 23),\n",
              " ('NANDI', 23),\n",
              " ('NYERI', 39),\n",
              " ('SAMBURU', 34),\n",
              " ('WEST POKOT', 24)]"
            ]
          },
          "metadata": {
            "tags": []
          },
          "execution_count": 87
        }
      ]
    }
  ]
}